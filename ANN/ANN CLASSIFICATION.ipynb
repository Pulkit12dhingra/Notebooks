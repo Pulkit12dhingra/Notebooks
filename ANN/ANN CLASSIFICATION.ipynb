{
  "nbformat": 4,
  "nbformat_minor": 0,
  "metadata": {
    "colab": {
      "name": "Untitled",
      "provenance": []
    },
    "kernelspec": {
      "name": "python3",
      "display_name": "Python 3"
    }
  },
  "cells": [
    {
      "cell_type": "code",
      "metadata": {
        "id": "Pqc3sGSYtDq8",
        "colab_type": "code",
        "colab": {}
      },
      "source": [
        "import tensorflow as tf"
      ],
      "execution_count": 1,
      "outputs": []
    },
    {
      "cell_type": "code",
      "metadata": {
        "id": "F2TDDX_3tJml",
        "colab_type": "code",
        "colab": {}
      },
      "source": [
        "data= tensorflow.keras.datasets.mnist"
      ],
      "execution_count": 9,
      "outputs": []
    },
    {
      "cell_type": "code",
      "metadata": {
        "id": "X4gIATrktcPs",
        "colab_type": "code",
        "colab": {
          "base_uri": "https://localhost:8080/",
          "height": 34
        },
        "outputId": "a289b24d-ac8b-4e43-9678-5fdcc6e39e6b"
      },
      "source": [
        "type(data)"
      ],
      "execution_count": 10,
      "outputs": [
        {
          "output_type": "execute_result",
          "data": {
            "text/plain": [
              "module"
            ]
          },
          "metadata": {
            "tags": []
          },
          "execution_count": 10
        }
      ]
    },
    {
      "cell_type": "code",
      "metadata": {
        "id": "IJzv-ocstrom",
        "colab_type": "code",
        "colab": {}
      },
      "source": [
        "(X_train,Y_train),(X_test,Y_test)=data.load_data()"
      ],
      "execution_count": 27,
      "outputs": []
    },
    {
      "cell_type": "code",
      "metadata": {
        "id": "ABmNHWvQt63c",
        "colab_type": "code",
        "colab": {
          "base_uri": "https://localhost:8080/",
          "height": 34
        },
        "outputId": "5c72619d-23da-4f24-eddc-cc0e43b8b281"
      },
      "source": [
        "X_test.shape,X_train.shape,Y_test.shape,Y_train.shape"
      ],
      "execution_count": 28,
      "outputs": [
        {
          "output_type": "execute_result",
          "data": {
            "text/plain": [
              "((10000, 28, 28), (60000, 28, 28), (10000,), (60000,))"
            ]
          },
          "metadata": {
            "tags": []
          },
          "execution_count": 28
        }
      ]
    },
    {
      "cell_type": "code",
      "metadata": {
        "id": "k8WhGQ3yvM1D",
        "colab_type": "code",
        "colab": {
          "base_uri": "https://localhost:8080/",
          "height": 34
        },
        "outputId": "0e5019ae-13af-4cb2-80d7-cd9c5fc2d71e"
      },
      "source": [
        "X_test,X_train=X_test/255.0,X_train/255.0\n",
        "X_train.shape,X_test.shape"
      ],
      "execution_count": 31,
      "outputs": [
        {
          "output_type": "execute_result",
          "data": {
            "text/plain": [
              "((60000, 28, 28), (10000, 28, 28))"
            ]
          },
          "metadata": {
            "tags": []
          },
          "execution_count": 31
        }
      ]
    },
    {
      "cell_type": "code",
      "metadata": {
        "id": "18B3M0ICvcxo",
        "colab_type": "code",
        "colab": {}
      },
      "source": [
        "model=tf.keras.Sequential(layers=[tf.keras.layers.Flatten(input_shape=(28,28)),\n",
        "                                  tf.keras.layers.Dense(128,activation=\"relu\"),\n",
        "                                  tf.keras.layers.Dropout(0.3),\n",
        "                                  tf.keras.layers.Dense(10,activation=\"softmax\")])"
      ],
      "execution_count": 33,
      "outputs": []
    },
    {
      "cell_type": "code",
      "metadata": {
        "id": "zYAcFcodw_tu",
        "colab_type": "code",
        "colab": {}
      },
      "source": [
        "model.compile(optimizer=\"adam\",loss=\"sparse_categorical_crossentropy\",metrics=[\"accuracy\"])"
      ],
      "execution_count": 39,
      "outputs": []
    },
    {
      "cell_type": "code",
      "metadata": {
        "id": "qKXOunaOxhd8",
        "colab_type": "code",
        "colab": {
          "base_uri": "https://localhost:8080/",
          "height": 353
        },
        "outputId": "6e195d37-1310-401b-e42e-087f841207df"
      },
      "source": [
        "r=model.fit(x=X_train ,y=Y_train , validation_data=(X_test,Y_test),epochs=10,batch_size=10)"
      ],
      "execution_count": 50,
      "outputs": [
        {
          "output_type": "stream",
          "text": [
            "Epoch 1/10\n",
            "6000/6000 [==============================] - 11s 2ms/step - loss: 2.1137 - accuracy: 0.2396 - val_loss: 2.0620 - val_accuracy: 0.3495\n",
            "Epoch 2/10\n",
            "6000/6000 [==============================] - 11s 2ms/step - loss: 2.0868 - accuracy: 0.2455 - val_loss: 2.0202 - val_accuracy: 0.3583\n",
            "Epoch 3/10\n",
            "6000/6000 [==============================] - 11s 2ms/step - loss: 2.0626 - accuracy: 0.2517 - val_loss: 1.9857 - val_accuracy: 0.3767\n",
            "Epoch 4/10\n",
            "6000/6000 [==============================] - 12s 2ms/step - loss: 2.0409 - accuracy: 0.2582 - val_loss: 1.9717 - val_accuracy: 0.3874\n",
            "Epoch 5/10\n",
            "6000/6000 [==============================] - 12s 2ms/step - loss: 2.0203 - accuracy: 0.2614 - val_loss: 1.9216 - val_accuracy: 0.4024\n",
            "Epoch 6/10\n",
            "6000/6000 [==============================] - 14s 2ms/step - loss: 1.9991 - accuracy: 0.2684 - val_loss: 1.8882 - val_accuracy: 0.4045\n",
            "Epoch 7/10\n",
            "6000/6000 [==============================] - 11s 2ms/step - loss: 1.9849 - accuracy: 0.2720 - val_loss: 1.8740 - val_accuracy: 0.4217\n",
            "Epoch 8/10\n",
            "6000/6000 [==============================] - 11s 2ms/step - loss: 1.9661 - accuracy: 0.2778 - val_loss: 1.8441 - val_accuracy: 0.4304\n",
            "Epoch 9/10\n",
            "6000/6000 [==============================] - 11s 2ms/step - loss: 1.9477 - accuracy: 0.2836 - val_loss: 1.8183 - val_accuracy: 0.4241\n",
            "Epoch 10/10\n",
            "6000/6000 [==============================] - 11s 2ms/step - loss: 1.9415 - accuracy: 0.2837 - val_loss: 1.8112 - val_accuracy: 0.4664\n"
          ],
          "name": "stdout"
        }
      ]
    },
    {
      "cell_type": "code",
      "metadata": {
        "id": "2Ur3jX7kyJ0s",
        "colab_type": "code",
        "colab": {
          "base_uri": "https://localhost:8080/",
          "height": 298
        },
        "outputId": "338fd975-e399-4025-88dc-3f5382ebda77"
      },
      "source": [
        "print(r)\n",
        "import matplotlib.pyplot as plt\n",
        "plt.plot(r.history[\"loss\"],label=\"Loss\")\n",
        "plt.plot(r.history[\"val_loss\"],label=\"var_loss\")\n",
        "plt.legend()"
      ],
      "execution_count": 57,
      "outputs": [
        {
          "output_type": "stream",
          "text": [
            "<tensorflow.python.keras.callbacks.History object at 0x7fae88247a90>\n"
          ],
          "name": "stdout"
        },
        {
          "output_type": "execute_result",
          "data": {
            "text/plain": [
              "<matplotlib.legend.Legend at 0x7fae8831f048>"
            ]
          },
          "metadata": {
            "tags": []
          },
          "execution_count": 57
        },
        {
          "output_type": "display_data",
          "data": {
            "image/png": "[encoded data removed]",
            "text/plain": [
              "<Figure size 432x288 with 1 Axes>"
            ]
          },
          "metadata": {
            "tags": [],
            "needs_background": "light"
          }
        }
      ]
    },
    {
      "cell_type": "code",
      "metadata": {
        "id": "gvHIWYcrzLTa",
        "colab_type": "code",
        "colab": {}
      },
      "source": [
        ""
      ],
      "execution_count": 42,
      "outputs": []
    }
  ]
}