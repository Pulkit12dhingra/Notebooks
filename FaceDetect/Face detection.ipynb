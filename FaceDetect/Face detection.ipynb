{
 "cells": [
  {
   "cell_type": "code",
   "execution_count": 11,
   "metadata": {},
   "outputs": [
    {
     "name": "stdout",
     "output_type": "stream",
     "text": [
      "Enter User ID23\n",
      "Enter your Nameparth\n",
      "Enter your Genderfemale\n",
      "Enter your Occupationffsd\n",
      "Enter your Age23\n"
     ]
    }
   ],
   "source": [
    "#data creator\n",
    "import cv2\n",
    "import numpy as np\n",
    "import sqlite3\n",
    "\n",
    "faceDetect=cv2.CascadeClassifier('haarcascade_frontalface_default.xml')\n",
    "cam=cv2.VideoCapture(0)\n",
    "\n",
    "def InsertOrUpdate(Id, Name, Gender, Occupation, Age):\n",
    "    con=sqlite3.connect(\"FaceBase.db\")\n",
    "    cmd=\"SELECT * FROM People WHERE ID=\"+str(Id)\n",
    "    cursor=con.execute(cmd)\n",
    "    isRecordExist=0\n",
    "    for row in cursor:\n",
    "        isRecordExist=1\n",
    "    if(isRecordExist==1):\n",
    "        cmd=\"UPDATE People SET Name=%r ,Gender=%r ,Occupation=%r ,Age=%r WHERE ID=%d\"%(Name,Gender,Occupation,Age,int(Id))\n",
    "        con.execute(cmd)\n",
    "        con.commit()\n",
    "        \n",
    "    else:\n",
    "        cmd=\"INSERT INTO People Values(%r,%r,%r,%r,%r)\"%(Id, Name, Gender, Occupation, Age)\n",
    "        con.execute(cmd)\n",
    "        con.commit()\n",
    "        con.close()\n",
    "\n",
    "id1=input('Enter User ID')\n",
    "name=input('Enter your Name')\n",
    "gender=input('Enter your Gender')\n",
    "occupation=input('Enter your Occupation')\n",
    "Age=input('Enter your Age')\n",
    "InsertOrUpdate(id1, name, gender, occupation, Age)\n",
    "\n",
    "sampleNum=0\n",
    "while(True):\n",
    "    ret, img=cam.read()\n",
    "    gray=cv2.cvtColor(img,cv2.COLOR_BGR2GRAY)\n",
    "    faces=faceDetect.detectMultiScale(gray, 1.3,5)\n",
    "    for(x,y,w,h) in faces:\n",
    "        sampleNum=sampleNum+1\n",
    "        cv2.imwrite(\"Dataset/User.\"+str(id1)+\".\"+str(sampleNum)+\".jpg\", gray[y:y+h,x:x+w])\n",
    "        cv2.rectangle(img,(x,y),(x+w,y+h),(0,255,0),2)\n",
    "        cv2.waitKey(100)\n",
    "    cv2.imshow(\"Frame\", img)\n",
    "    cv2.waitKey(1)\n",
    "    if(sampleNum>100):\n",
    "        break\n",
    "cam.release()\n",
    "cv2.destroyAllWindows()"
   ]
  },
  {
   "cell_type": "code",
   "execution_count": 9,
   "metadata": {},
   "outputs": [],
   "source": [
    "#trainer\n",
    "import os\n",
    "import cv2\n",
    "import numpy as np\n",
    "from PIL import Image\n",
    "\n",
    "recognizer=cv2.face.LBPHFaceRecognizer_create()\n",
    "path=os.path.abspath('dataset')\n",
    "\n",
    "def getImagesWithID(path):\n",
    "    imgPaths=[os.path.join(path,f) for f in os.listdir(path)]\n",
    "    faces=[]\n",
    "    Ids=[]\n",
    "    for imgPath in imgPaths:\n",
    "        faceImg=Image.open(imgPath).convert(\"L\")\n",
    "        faceNp=np.array(faceImg,'uint8')\n",
    "        ID=int(os.path.split(imgPath)[-1].split('.')[1])\n",
    "        faces.append(faceNp)\n",
    "        Ids.append(ID)\n",
    "        cv2.imshow(\"traning\", faceNp)\n",
    "        cv2.waitKey(10)\n",
    "    return np.array(Ids), faces\n",
    "\n",
    "Ids, faces=getImagesWithID(path)\n",
    "recognizer.train(faces,Ids)\n",
    "recognizer.save(\"recognizer/trainingData.yml\")\n",
    "cv2.destroyAllWindows()\n"
   ]
  },
  {
   "cell_type": "code",
   "execution_count": 10,
   "metadata": {},
   "outputs": [],
   "source": [
    "#detector\n",
    "import cv2\n",
    "import numpy as np\n",
    "import sqlite3\n",
    "faceDetect=cv2.CascadeClassifier('haarcascade_frontalface_default.xml')\n",
    "cam=cv2.VideoCapture(0)\n",
    "rec=cv2.face.LBPHFaceRecognizer_create()\n",
    "rec.read(\"recognizer/trainingData.yml\")\n",
    "\n",
    "def getProfile(id):\n",
    "    con=sqlite3.connect(\"FaceBase.db\")\n",
    "    cmd=\"SELECT * FROM People WHERE ID=\"+str(id)\n",
    "    cursor=con.execute(cmd)\n",
    "    profile=None\n",
    "    for row in cursor:\n",
    "        profile=row\n",
    "    con.close()\n",
    "    return profile\n",
    "\n",
    "id=0\n",
    "#font = cv2.cv2.InitFont(cv2.cv2.CV_FONT_HERSHEY_SIMPLEX, 1, 1, 0, 1, 1)\n",
    "fontface = cv2.FONT_HERSHEY_SIMPLEX\n",
    "fontcolor = (0, 255, 0)\n",
    "while(True):\n",
    "    ret, img=cam.read()\n",
    "    gray=cv2.cvtColor(img,cv2.COLOR_BGR2GRAY)\n",
    "    faces=faceDetect.detectMultiScale(gray, 1.3,5)\n",
    "    for(x,y,w,h) in faces:\n",
    "        cv2.rectangle(img,(x,y),(x+w,y+h),(0,0,255),2)\n",
    "        id, conf=rec.predict(gray[y:y+h, x:x+w])\n",
    "        profile=getProfile(id)\n",
    "        if conf>60:\n",
    "            profile=None\n",
    "        if (profile!=None):\n",
    "            #cv2.cv.putText(cv2.cv.fromarray(img),str(id),(x,y+h),font,255)\n",
    "            cv2.putText(img, \"Name:\"+str(profile[1]), (x,y+h+30), fontface, 0.6, fontcolor, 2)\n",
    "            cv2.putText(img, \"Age:\"+str(profile[4]), (x,y+h+60), fontface, 0.6, fontcolor, 2)\n",
    "            cv2.putText(img, \"Gender:\"+str(profile[2]), (x,y+h+90), fontface, 0.6, fontcolor, 2)\n",
    "            cv2.putText(img, \"Occupation:\"+str(profile[3]), (x,y+h+120), fontface, 0.6, fontcolor, 2)\n",
    "\n",
    "    cv2.imshow(\"Frame\", img)\n",
    "    if(cv2.waitKey(1)==ord('q')):\n",
    "        break;\n",
    "cam.release()\n",
    "cv2.destroyAllWindows()\n",
    "\n",
    "\n"
   ]
  },
  {
   "cell_type": "code",
   "execution_count": 5,
   "metadata": {},
   "outputs": [],
   "source": []
  },
  {
   "cell_type": "code",
   "execution_count": 8,
   "metadata": {},
   "outputs": [
    {
     "name": "stdout",
     "output_type": "stream",
     "text": [
      "20\n"
     ]
    }
   ],
   "source": []
  },
  {
   "cell_type": "code",
   "execution_count": 7,
   "metadata": {},
   "outputs": [],
   "source": []
  },
  {
   "cell_type": "code",
   "execution_count": null,
   "metadata": {},
   "outputs": [],
   "source": []
  }
 ],
 "metadata": {
  "kernelspec": {
   "display_name": "Python 3",
   "language": "python",
   "name": "python3"
  },
  "language_info": {
   "codemirror_mode": {
    "name": "ipython",
    "version": 3
   },
   "file_extension": ".py",
   "mimetype": "text/x-python",
   "name": "python",
   "nbconvert_exporter": "python",
   "pygments_lexer": "ipython3",
   "version": "3.7.3"
  }
 },
 "nbformat": 4,
 "nbformat_minor": 2
}
