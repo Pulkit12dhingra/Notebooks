{
 "cells": [
  {
   "cell_type": "code",
   "execution_count": 1,
   "metadata": {},
   "outputs": [],
   "source": [
    "import pandas as pd"
   ]
  },
  {
   "cell_type": "code",
   "execution_count": 2,
   "metadata": {},
   "outputs": [],
   "source": [
    "data=pd.read_csv('https://archive.ics.uci.edu/ml/machine-learning-databases/spambase/spambase.data')"
   ]
  },
  {
   "cell_type": "code",
   "execution_count": 3,
   "metadata": {},
   "outputs": [
    {
     "data": {
      "text/plain": [
       "(4600, 58)"
      ]
     },
     "execution_count": 3,
     "metadata": {},
     "output_type": "execute_result"
    }
   ],
   "source": [
    "data.shape"
   ]
  },
  {
   "cell_type": "code",
   "execution_count": 4,
   "metadata": {},
   "outputs": [
    {
     "data": {
      "text/plain": [
       "((4600, 58), (4600, 58), 0        float64\n",
       " 1        float64\n",
       " 2        float64\n",
       " 3        float64\n",
       " 4        float64\n",
       " 5        float64\n",
       " 6        float64\n",
       " 7        float64\n",
       " 8        float64\n",
       " 9        float64\n",
       " 10       float64\n",
       " 11       float64\n",
       " 12       float64\n",
       " 13       float64\n",
       " 14       float64\n",
       " 15       float64\n",
       " 16       float64\n",
       " 17       float64\n",
       " 18       float64\n",
       " 19       float64\n",
       " 20       float64\n",
       " 21       float64\n",
       " 22       float64\n",
       " 23       float64\n",
       " 24       float64\n",
       " 25       float64\n",
       " 26       float64\n",
       " 27       float64\n",
       " 28       float64\n",
       " 29       float64\n",
       " 30       float64\n",
       " 31       float64\n",
       " 32       float64\n",
       " 33       float64\n",
       " 34       float64\n",
       " 35       float64\n",
       " 36       float64\n",
       " 37       float64\n",
       " 38       float64\n",
       " 39       float64\n",
       " 40       float64\n",
       " 41       float64\n",
       " 42       float64\n",
       " 43       float64\n",
       " 44       float64\n",
       " 45       float64\n",
       " 46       float64\n",
       " 47       float64\n",
       " 48       float64\n",
       " 49       float64\n",
       " 50       float64\n",
       " 51       float64\n",
       " 52       float64\n",
       " 53       float64\n",
       " 54       float64\n",
       " 55         int64\n",
       " 56         int64\n",
       " class      int64\n",
       " dtype: object)"
      ]
     },
     "execution_count": 4,
     "metadata": {},
     "output_type": "execute_result"
    }
   ],
   "source": [
    "data.columns=list(range(57))+['class']\n",
    "data.shape,data.dropna().shape,data.dtypes"
   ]
  },
  {
   "cell_type": "code",
   "execution_count": 5,
   "metadata": {},
   "outputs": [
    {
     "data": {
      "text/plain": [
       "(4600, 5)"
      ]
     },
     "execution_count": 5,
     "metadata": {},
     "output_type": "execute_result"
    }
   ],
   "source": [
    "x=data.drop('class',axis=1)\n",
    "y=data['class']\n",
    "from sklearn.decomposition import PCA\n",
    "myalgo=PCA(n_components=5).fit(x)\n",
    "x=myalgo.transform(x)\n",
    "x.shape"
   ]
  },
  {
   "cell_type": "code",
   "execution_count": 6,
   "metadata": {},
   "outputs": [],
   "source": [
    "from sklearn.model_selection import train_test_split\n",
    "x_tr,x_ts,y_tr,y_ts=train_test_split(x,y,test_size=0.2)"
   ]
  },
  {
   "cell_type": "code",
   "execution_count": 7,
   "metadata": {},
   "outputs": [
    {
     "name": "stdout",
     "output_type": "stream",
     "text": [
      "              precision    recall  f1-score   support\n",
      "\n",
      "           0       0.80      0.86      0.83       567\n",
      "           1       0.75      0.66      0.70       353\n",
      "\n",
      "    accuracy                           0.78       920\n",
      "   macro avg       0.78      0.76      0.77       920\n",
      "weighted avg       0.78      0.78      0.78       920\n",
      "\n"
     ]
    },
    {
     "name": "stderr",
     "output_type": "stream",
     "text": [
      "C:\\Users\\pulki\\Anaconda3\\lib\\site-packages\\sklearn\\linear_model\\logistic.py:432: FutureWarning: Default solver will be changed to 'lbfgs' in 0.22. Specify a solver to silence this warning.\n",
      "  FutureWarning)\n"
     ]
    },
    {
     "data": {
      "text/plain": [
       "(0.7847826086956522, array([[490,  77],\n",
       "        [121, 232]], dtype=int64))"
      ]
     },
     "execution_count": 7,
     "metadata": {},
     "output_type": "execute_result"
    }
   ],
   "source": [
    "from sklearn.metrics import confusion_matrix,classification_report\n",
    "from sklearn.linear_model import LogisticRegression\n",
    "algo=LogisticRegression()\n",
    "algo.fit(x_tr,y_tr)\n",
    "print(classification_report(y_ts,algo.predict(x_ts)))\n",
    "algo.score(x_ts,y_ts),confusion_matrix(y_ts,algo.predict(x_ts))"
   ]
  },
  {
   "cell_type": "code",
   "execution_count": 8,
   "metadata": {},
   "outputs": [
    {
     "name": "stdout",
     "output_type": "stream",
     "text": [
      "              precision    recall  f1-score   support\n",
      "\n",
      "           0       0.81      0.80      0.81       567\n",
      "           1       0.69      0.70      0.69       353\n",
      "\n",
      "    accuracy                           0.76       920\n",
      "   macro avg       0.75      0.75      0.75       920\n",
      "weighted avg       0.76      0.76      0.76       920\n",
      "\n"
     ]
    },
    {
     "data": {
      "text/plain": [
       "(0.7619565217391304, array([[454, 113],\n",
       "        [106, 247]], dtype=int64))"
      ]
     },
     "execution_count": 8,
     "metadata": {},
     "output_type": "execute_result"
    }
   ],
   "source": [
    "from sklearn.neighbors import KNeighborsClassifier\n",
    "algo=KNeighborsClassifier()\n",
    "algo.fit(x_tr,y_tr)\n",
    "print(classification_report(y_ts,algo.predict(x_ts)))\n",
    "algo.score(x_ts,y_ts),confusion_matrix(y_ts,algo.predict(x_ts))"
   ]
  },
  {
   "cell_type": "code",
   "execution_count": 9,
   "metadata": {},
   "outputs": [
    {
     "name": "stdout",
     "output_type": "stream",
     "text": [
      "              precision    recall  f1-score   support\n",
      "\n",
      "           0       0.67      0.94      0.79       567\n",
      "           1       0.74      0.27      0.40       353\n",
      "\n",
      "    accuracy                           0.68       920\n",
      "   macro avg       0.71      0.61      0.59       920\n",
      "weighted avg       0.70      0.68      0.64       920\n",
      "\n"
     ]
    },
    {
     "data": {
      "text/plain": [
       "(0.683695652173913, array([[533,  34],\n",
       "        [257,  96]], dtype=int64))"
      ]
     },
     "execution_count": 9,
     "metadata": {},
     "output_type": "execute_result"
    }
   ],
   "source": [
    "from sklearn.naive_bayes import GaussianNB\n",
    "algo=GaussianNB()\n",
    "algo.fit(x_tr,y_tr)\n",
    "print(classification_report(y_ts,algo.predict(x_ts)))\n",
    "algo.score(x_ts,y_ts),confusion_matrix(y_ts,algo.predict(x_ts))"
   ]
  },
  {
   "cell_type": "code",
   "execution_count": 10,
   "metadata": {},
   "outputs": [
    {
     "name": "stderr",
     "output_type": "stream",
     "text": [
      "C:\\Users\\pulki\\Anaconda3\\lib\\site-packages\\sklearn\\svm\\base.py:193: FutureWarning: The default value of gamma will change from 'auto' to 'scale' in version 0.22 to account better for unscaled features. Set gamma explicitly to 'auto' or 'scale' to avoid this warning.\n",
      "  \"avoid this warning.\", FutureWarning)\n"
     ]
    },
    {
     "name": "stdout",
     "output_type": "stream",
     "text": [
      "              precision    recall  f1-score   support\n",
      "\n",
      "           0       0.85      0.74      0.79       567\n",
      "           1       0.66      0.80      0.72       353\n",
      "\n",
      "    accuracy                           0.76       920\n",
      "   macro avg       0.76      0.77      0.76       920\n",
      "weighted avg       0.78      0.76      0.77       920\n",
      "\n"
     ]
    },
    {
     "data": {
      "text/plain": [
       "(0.7630434782608696, array([[421, 146],\n",
       "        [ 72, 281]], dtype=int64))"
      ]
     },
     "execution_count": 10,
     "metadata": {},
     "output_type": "execute_result"
    }
   ],
   "source": [
    "from sklearn.svm import SVC\n",
    "algo=SVC()\n",
    "algo.fit(x_tr,y_tr)\n",
    "print(classification_report(y_ts,algo.predict(x_ts)))\n",
    "algo.score(x_ts,y_ts),confusion_matrix(y_ts,algo.predict(x_ts))"
   ]
  },
  {
   "cell_type": "code",
   "execution_count": 11,
   "metadata": {},
   "outputs": [
    {
     "name": "stdout",
     "output_type": "stream",
     "text": [
      "              precision    recall  f1-score   support\n",
      "\n",
      "           0       0.88      0.86      0.87       567\n",
      "           1       0.78      0.81      0.80       353\n",
      "\n",
      "    accuracy                           0.84       920\n",
      "   macro avg       0.83      0.84      0.83       920\n",
      "weighted avg       0.84      0.84      0.84       920\n",
      "\n"
     ]
    },
    {
     "data": {
      "text/plain": [
       "(0.842391304347826, array([[488,  79],\n",
       "        [ 66, 287]], dtype=int64))"
      ]
     },
     "execution_count": 11,
     "metadata": {},
     "output_type": "execute_result"
    }
   ],
   "source": [
    "from sklearn.tree import DecisionTreeClassifier\n",
    "algo=DecisionTreeClassifier()\n",
    "algo.fit(x_tr,y_tr)\n",
    "print(classification_report(y_ts,algo.predict(x_ts)))\n",
    "algo.score(x_ts,y_ts),confusion_matrix(y_ts,algo.predict(x_ts))"
   ]
  },
  {
   "cell_type": "code",
   "execution_count": 12,
   "metadata": {},
   "outputs": [
    {
     "name": "stderr",
     "output_type": "stream",
     "text": [
      "C:\\Users\\pulki\\Anaconda3\\lib\\site-packages\\sklearn\\ensemble\\forest.py:245: FutureWarning: The default value of n_estimators will change from 10 in version 0.20 to 100 in 0.22.\n",
      "  \"10 in version 0.20 to 100 in 0.22.\", FutureWarning)\n"
     ]
    },
    {
     "name": "stdout",
     "output_type": "stream",
     "text": [
      "              precision    recall  f1-score   support\n",
      "\n",
      "           0       0.89      0.91      0.90       567\n",
      "           1       0.85      0.81      0.83       353\n",
      "\n",
      "    accuracy                           0.87       920\n",
      "   macro avg       0.87      0.86      0.86       920\n",
      "weighted avg       0.87      0.87      0.87       920\n",
      "\n"
     ]
    },
    {
     "data": {
      "text/plain": [
       "(0.8728260869565218, array([[516,  51],\n",
       "        [ 66, 287]], dtype=int64))"
      ]
     },
     "execution_count": 12,
     "metadata": {},
     "output_type": "execute_result"
    }
   ],
   "source": [
    "from sklearn.ensemble import RandomForestClassifier\n",
    "algo=RandomForestClassifier()\n",
    "algo.fit(x_tr,y_tr)\n",
    "print(classification_report(y_ts,algo.predict(x_ts)))\n",
    "algo.score(x_ts,y_ts),confusion_matrix(y_ts,algo.predict(x_ts))"
   ]
  },
  {
   "cell_type": "code",
   "execution_count": 13,
   "metadata": {},
   "outputs": [
    {
     "name": "stdout",
     "output_type": "stream",
     "text": [
      "              precision    recall  f1-score   support\n",
      "\n",
      "           0       0.87      0.85      0.86       567\n",
      "           1       0.77      0.79      0.78       353\n",
      "\n",
      "    accuracy                           0.83       920\n",
      "   macro avg       0.82      0.82      0.82       920\n",
      "weighted avg       0.83      0.83      0.83       920\n",
      "\n"
     ]
    },
    {
     "data": {
      "text/plain": [
       "(0.8271739130434783, array([[482,  85],\n",
       "        [ 74, 279]], dtype=int64))"
      ]
     },
     "execution_count": 13,
     "metadata": {},
     "output_type": "execute_result"
    }
   ],
   "source": [
    "from sklearn.ensemble import AdaBoostClassifier\n",
    "algo=AdaBoostClassifier()\n",
    "algo.fit(x_tr,y_tr)\n",
    "print(classification_report(y_ts,algo.predict(x_ts)))\n",
    "algo.score(x_ts,y_ts),confusion_matrix(y_ts,algo.predict(x_ts))"
   ]
  },
  {
   "cell_type": "code",
   "execution_count": 14,
   "metadata": {},
   "outputs": [
    {
     "name": "stdout",
     "output_type": "stream",
     "text": [
      "              precision    recall  f1-score   support\n",
      "\n",
      "           0       0.89      0.87      0.88       567\n",
      "           1       0.79      0.83      0.81       353\n",
      "\n",
      "    accuracy                           0.85       920\n",
      "   macro avg       0.84      0.85      0.84       920\n",
      "weighted avg       0.85      0.85      0.85       920\n",
      "\n"
     ]
    },
    {
     "data": {
      "text/plain": [
       "(0.8510869565217392, array([[491,  76],\n",
       "        [ 61, 292]], dtype=int64))"
      ]
     },
     "execution_count": 14,
     "metadata": {},
     "output_type": "execute_result"
    }
   ],
   "source": [
    "from sklearn.ensemble import GradientBoostingClassifier\n",
    "algo=GradientBoostingClassifier()\n",
    "algo.fit(x_tr,y_tr)\n",
    "print(classification_report(y_ts,algo.predict(x_ts)))\n",
    "algo.score(x_ts,y_ts),confusion_matrix(y_ts,algo.predict(x_ts))"
   ]
  },
  {
   "cell_type": "code",
   "execution_count": 15,
   "metadata": {},
   "outputs": [],
   "source": [
    "#pcA algo by hand"
   ]
  },
  {
   "cell_type": "code",
   "execution_count": 16,
   "metadata": {},
   "outputs": [
    {
     "data": {
      "text/plain": [
       "array([[1, 2],\n",
       "       [3, 4],\n",
       "       [5, 6]])"
      ]
     },
     "execution_count": 16,
     "metadata": {},
     "output_type": "execute_result"
    }
   ],
   "source": [
    "import numpy as np\n",
    "a=np.arange(1,7)\n",
    "a.shape=(3,2)\n",
    "a"
   ]
  },
  {
   "cell_type": "code",
   "execution_count": 17,
   "metadata": {},
   "outputs": [
    {
     "data": {
      "text/plain": [
       "(array([[-2.82842712e+00,  2.22044605e-16],\n",
       "        [ 0.00000000e+00,  0.00000000e+00],\n",
       "        [ 2.82842712e+00, -2.22044605e-16]]),\n",
       " array([[ 0.70710678,  0.70710678],\n",
       "        [ 0.70710678, -0.70710678]]),\n",
       " array([8.00000000e+00, 2.25080839e-33]))"
      ]
     },
     "execution_count": 17,
     "metadata": {},
     "output_type": "execute_result"
    }
   ],
   "source": [
    "from sklearn.decomposition.pca import PCA\n",
    "algo=PCA(2)\n",
    "algo.fit(a)\n",
    "algo.transform(a),algo.components_,algo.explained_variance_"
   ]
  },
  {
   "cell_type": "code",
   "execution_count": 18,
   "metadata": {},
   "outputs": [
    {
     "name": "stdout",
     "output_type": "stream",
     "text": [
      "[8. 0.] [[ 0.70710678 -0.70710678]\n",
      " [ 0.70710678  0.70710678]]\n"
     ]
    },
    {
     "data": {
      "text/plain": [
       "(array([[ 0.        , -2.82842712],\n",
       "        [ 0.        ,  0.        ],\n",
       "        [ 0.        ,  2.82842712]]), array([[-2., -2.],\n",
       "        [ 0.,  0.],\n",
       "        [ 2.,  2.]]), array([[ 0.70710678,  0.70710678],\n",
       "        [-0.70710678,  0.70710678]]))"
      ]
     },
     "execution_count": 18,
     "metadata": {},
     "output_type": "execute_result"
    }
   ],
   "source": [
    "m=a.mean(axis=0)\n",
    "d=a-m\n",
    "c=np.cov(d.T)\n",
    "i,j=np.linalg.eig(c)\n",
    "print(i,j)\n",
    "np.dot(d,j.T),d,j.T"
   ]
  },
  {
   "cell_type": "code",
   "execution_count": null,
   "metadata": {},
   "outputs": [],
   "source": []
  }
 ],
 "metadata": {
  "kernelspec": {
   "display_name": "Python 3",
   "language": "python",
   "name": "python3"
  },
  "language_info": {
   "codemirror_mode": {
    "name": "ipython",
    "version": 3
   },
   "file_extension": ".py",
   "mimetype": "text/x-python",
   "name": "python",
   "nbconvert_exporter": "python",
   "pygments_lexer": "ipython3",
   "version": "3.7.3"
  }
 },
 "nbformat": 4,
 "nbformat_minor": 2
}
