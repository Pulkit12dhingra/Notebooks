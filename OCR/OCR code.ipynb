{
 "cells": [
  {
   "cell_type": "code",
   "execution_count": 1,
   "metadata": {},
   "outputs": [],
   "source": [
    "import cv2\n",
    "import numpy as np\n",
    "import requests as r\n",
    "import io\n",
    "import json"
   ]
  },
  {
   "cell_type": "code",
   "execution_count": 2,
   "metadata": {},
   "outputs": [],
   "source": [
    "#Read image\n",
    "img=cv2.imread(r'D:\\projects\\p3.png')"
   ]
  },
  {
   "cell_type": "code",
   "execution_count": 3,
   "metadata": {},
   "outputs": [],
   "source": [
    "#show image\n",
    "cv2.imshow(\"Img\", img)\n",
    "cv2.waitKey(0)\n",
    "cv2.destroyAllWindows()"
   ]
  },
  {
   "cell_type": "code",
   "execution_count": 4,
   "metadata": {},
   "outputs": [
    {
     "name": "stdout",
     "output_type": "stream",
     "text": [
      "(651, 800, 3)\n"
     ]
    }
   ],
   "source": [
    "#\"cut image to desired size\"\n",
    "print(img.shape)\n",
    "height,width,_=img.shape\n",
    "#\"roi=region of interest\"\n",
    "roi=img[0:height,100:width]\n",
    "cv2.imshow(\"roi\", roi)\n",
    "cv2.waitKey(0)\n",
    "cv2.destroyAllWindows()"
   ]
  },
  {
   "cell_type": "code",
   "execution_count": 5,
   "metadata": {},
   "outputs": [
    {
     "name": "stdout",
     "output_type": "stream",
     "text": [
      "{'OCRExitCode': 3, 'IsErroredOnProcessing': True, 'ErrorMessage': ['File failed validation. File size exceeds the maximum permissible file size limit of 1024 KB'], 'ErrorDetails': '', 'ProcessingTimeInMilliseconds': '15'}\n"
     ]
    }
   ],
   "source": [
    "#ocr\n",
    "roi=img\n",
    "url_api=\"https://api.ocr.space/parse/image\"\n",
    "_,compressedimage=cv2.imencode(\".png\",roi,[1,90])\n",
    "file_bytes=io.BytesIO(compressedimage)\n",
    "results=r.post(url_api,files={\"p3.png\":file_bytes},data={\"apikey\":\"\",\"filetype\":\"PNG\"})\n",
    "result=results.content.decode()\n",
    "result=json.loads(result)\n",
    "#text_detected=result.get(\"ParsedResults\")[0].get(\"ParsedText\")\n",
    "print(result)"
   ]
  }
 ],
 "metadata": {
  "kernelspec": {
   "display_name": "Python 3",
   "language": "python",
   "name": "python3"
  },
  "language_info": {
   "codemirror_mode": {
    "name": "ipython",
    "version": 3
   },
   "file_extension": ".py",
   "mimetype": "text/x-python",
   "name": "python",
   "nbconvert_exporter": "python",
   "pygments_lexer": "ipython3",
   "version": "3.7.3"
  }
 },
 "nbformat": 4,
 "nbformat_minor": 2
}
