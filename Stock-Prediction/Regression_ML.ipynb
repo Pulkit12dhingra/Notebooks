{
 "cells": [
  {
   "cell_type": "code",
   "execution_count": 1,
   "metadata": {},
   "outputs": [],
   "source": [
    "import numpy as np\n",
    "import matplotlib.pyplot as plt"
   ]
  },
  {
   "cell_type": "code",
   "execution_count": 2,
   "metadata": {},
   "outputs": [],
   "source": [
    "x=np.array([1,2,3,4,5,6])\n",
    "y=np.array([2,6,10,14,18,22])"
   ]
  },
  {
   "cell_type": "code",
   "execution_count": 3,
   "metadata": {},
   "outputs": [],
   "source": [
    "def lin(x,y):\n",
    "    m=int(((np.mean(x)*np.mean(y))-(np.mean(x*y)))/(((np.mean(x))**2)-(np.mean((x**2)))))#y=mx+c>>>\n",
    "    c=int(np.mean(y)-(m*np.mean(x)))\n",
    "    return m,c"
   ]
  },
  {
   "cell_type": "code",
   "execution_count": 4,
   "metadata": {},
   "outputs": [],
   "source": [
    "#print(m,c)"
   ]
  },
  {
   "cell_type": "code",
   "execution_count": 5,
   "metadata": {},
   "outputs": [
    {
     "data": {
      "image/png": "[encoded data removed]",
      "text/plain": [
       "<Figure size 432x288 with 2 Axes>"
      ]
     },
     "metadata": {
      "needs_background": "light"
     },
     "output_type": "display_data"
    }
   ],
   "source": [
    "plt.subplot(2,2,1)\n",
    "p=plt.plot(x,y)\n",
    "plt.subplot(2,2,2)\n",
    "p=plt.scatter(x,y)"
   ]
  },
  {
   "cell_type": "code",
   "execution_count": 6,
   "metadata": {},
   "outputs": [],
   "source": [
    "m,c=lin(x,y)"
   ]
  },
  {
   "cell_type": "code",
   "execution_count": 7,
   "metadata": {},
   "outputs": [],
   "source": [
    "ry=[m*i+c for i in x]"
   ]
  },
  {
   "cell_type": "code",
   "execution_count": 8,
   "metadata": {},
   "outputs": [
    {
     "data": {
      "image/png": "[encoded data removed]",
      "text/plain": [
       "<Figure size 432x288 with 1 Axes>"
      ]
     },
     "metadata": {
      "needs_background": "light"
     },
     "output_type": "display_data"
    }
   ],
   "source": [
    "plt.plot(x,ry)\n",
    "plt.scatter(x,y)\n",
    "plt.show()#ideal case"
   ]
  },
  {
   "cell_type": "code",
   "execution_count": 9,
   "metadata": {},
   "outputs": [
    {
     "data": {
      "image/png": "[encoded data removed]",
      "text/plain": [
       "<Figure size 432x288 with 1 Axes>"
      ]
     },
     "metadata": {
      "needs_background": "light"
     },
     "output_type": "display_data"
    },
    {
     "name": "stdout",
     "output_type": "stream",
     "text": [
      "4 -2\n"
     ]
    }
   ],
   "source": [
    "x=np.array([1,2,3,4,5,6,7,8,9,10])\n",
    "y=np.array([2,6,10,14,18,22,26,30,34,38])\n",
    "def lin(x,y):\n",
    "    m=int(((np.mean(x)*np.mean(y))-(np.mean(x*y)))/(((np.mean(x))**2)-(np.mean((x**2)))))#y=mx+c>>>\n",
    "    c=int(np.mean(y)-(m*np.mean(x)))\n",
    "    return m,c\n",
    "m,c=lin(x,y)\n",
    "ry=[m*i+c for i in x]\n",
    "plt.plot(x,ry)\n",
    "plt.scatter(x,y)\n",
    "plt.show()#ideal case\n",
    "print(m,c)"
   ]
  },
  {
   "cell_type": "code",
   "execution_count": 10,
   "metadata": {},
   "outputs": [
    {
     "data": {
      "text/plain": [
       "'\\n(r)**2=1-submittion[((ry-y)/(mean(y)-y))]'"
      ]
     },
     "execution_count": 10,
     "metadata": {},
     "output_type": "execute_result"
    }
   ],
   "source": [
    "#coff of determination\n",
    "'''\n",
    "(r)**2=1-submittion[((ry-y)/(mean(y)-y))]'''"
   ]
  },
  {
   "cell_type": "code",
   "execution_count": 11,
   "metadata": {},
   "outputs": [
    {
     "data": {
      "image/png": "[encoded data removed]",
      "text/plain": [
       "<Figure size 432x288 with 1 Axes>"
      ]
     },
     "metadata": {
      "needs_background": "light"
     },
     "output_type": "display_data"
    }
   ],
   "source": [
    "plt.plot(x,ry)\n",
    "plt.scatter(x,y)\n",
    "plt.plot(x,[np.mean(y) for i in x])\n",
    "plt.show()"
   ]
  },
  {
   "cell_type": "code",
   "execution_count": 12,
   "metadata": {},
   "outputs": [],
   "source": [
    "def coff(r,ry):\n",
    "    ser=sum(r-ry)**2\n",
    "    seym=sum((np.mean(r)-y)**2)\n",
    "    return 1-(ser/seym)"
   ]
  },
  {
   "cell_type": "code",
   "execution_count": 13,
   "metadata": {},
   "outputs": [
    {
     "data": {
      "text/plain": [
       "1.0"
      ]
     },
     "execution_count": 13,
     "metadata": {},
     "output_type": "execute_result"
    }
   ],
   "source": [
    "coff(y,ry)"
   ]
  },
  {
   "cell_type": "code",
   "execution_count": 14,
   "metadata": {},
   "outputs": [],
   "source": [
    "from sklearn.linear_model import LinearRegression\n",
    "algo=LinearRegression()"
   ]
  },
  {
   "cell_type": "code",
   "execution_count": 15,
   "metadata": {},
   "outputs": [
    {
     "data": {
      "text/plain": [
       "LinearRegression(copy_X=True, fit_intercept=True, n_jobs=None, normalize=False)"
      ]
     },
     "execution_count": 15,
     "metadata": {},
     "output_type": "execute_result"
    }
   ],
   "source": [
    "algo.fit(x.reshape(-1,1),y.reshape(-1,1))#m,c find"
   ]
  },
  {
   "cell_type": "code",
   "execution_count": 16,
   "metadata": {},
   "outputs": [
    {
     "data": {
      "text/plain": [
       "(array([[4.]]), array([-2.]))"
      ]
     },
     "execution_count": 16,
     "metadata": {},
     "output_type": "execute_result"
    }
   ],
   "source": [
    "algo.coef_,algo.intercept_#intercept"
   ]
  },
  {
   "cell_type": "code",
   "execution_count": 17,
   "metadata": {},
   "outputs": [
    {
     "data": {
      "text/plain": [
       "array([[ 2.],\n",
       "       [ 6.],\n",
       "       [10.],\n",
       "       [14.],\n",
       "       [18.],\n",
       "       [22.],\n",
       "       [26.],\n",
       "       [30.],\n",
       "       [34.],\n",
       "       [38.]])"
      ]
     },
     "execution_count": 17,
     "metadata": {},
     "output_type": "execute_result"
    }
   ],
   "source": [
    "algo.predict(x.reshape(-1,1))#new resultant model"
   ]
  },
  {
   "cell_type": "code",
   "execution_count": 18,
   "metadata": {},
   "outputs": [
    {
     "data": {
      "text/plain": [
       "1.0"
      ]
     },
     "execution_count": 18,
     "metadata": {},
     "output_type": "execute_result"
    }
   ],
   "source": [
    "algo.score(x.reshape(-1,1),y.reshape(-1,1))#predict x form y =>y=mx+c optimization"
   ]
  },
  {
   "cell_type": "code",
   "execution_count": 19,
   "metadata": {},
   "outputs": [],
   "source": [
    "from sklearn.metrics import r2_score"
   ]
  },
  {
   "cell_type": "code",
   "execution_count": 20,
   "metadata": {},
   "outputs": [],
   "source": [
    "import pandas_datareader"
   ]
  },
  {
   "cell_type": "code",
   "execution_count": 21,
   "metadata": {},
   "outputs": [
    {
     "name": "stdout",
     "output_type": "stream",
     "text": [
      "[[1]\n",
      " [2]\n",
      " [3]\n",
      " [4]\n",
      " [5]] [[ 6]\n",
      " [ 7]\n",
      " [ 8]\n",
      " [ 9]\n",
      " [10]] [[22]\n",
      " [26]\n",
      " [30]\n",
      " [34]\n",
      " [38]]\n"
     ]
    }
   ],
   "source": [
    "x=np.array([1,2,3,4,5,6,7,8,9,10])\n",
    "y=np.array([2,6,10,14,18,22,26,30,34,38])\n",
    "dx=x.reshape(-1,1)\n",
    "dy=y.reshape(-1,1)\n",
    "x1=dx[:5]\n",
    "x2=dx[5:]\n",
    "y1=dy[5:]\n",
    "algo.fit(x1,y1)\n",
    "algo.predict(x2)\n",
    "print(x1,x2,y1)"
   ]
  },
  {
   "cell_type": "code",
   "execution_count": 22,
   "metadata": {},
   "outputs": [],
   "source": [
    "from pandas_datareader import DataReader\n",
    "import datetime"
   ]
  },
  {
   "cell_type": "code",
   "execution_count": null,
   "metadata": {},
   "outputs": [],
   "source": [
    "# Generate an API key from Tiingo website"
   ]
  },
  {
   "cell_type": "code",
   "execution_count": 23,
   "metadata": {},
   "outputs": [],
   "source": [
    "start='2000-1-1'\n",
    "data=DataReader('msft','tiingo',start,datetime.datetime.now(),api_key='26022ebc9fa3a9c071f556f5f3a1f59da28ebb83')"
   ]
  },
  {
   "cell_type": "code",
   "execution_count": 24,
   "metadata": {
    "scrolled": true
   },
   "outputs": [
    {
     "data": {
      "text/html": [
       "<div>\n",
       "<style scoped>\n",
       "    .dataframe tbody tr th:only-of-type {\n",
       "        vertical-align: middle;\n",
       "    }\n",
       "\n",
       "    .dataframe tbody tr th {\n",
       "        vertical-align: top;\n",
       "    }\n",
       "\n",
       "    .dataframe thead th {\n",
       "        text-align: right;\n",
       "    }\n",
       "</style>\n",
       "<table border=\"1\" class=\"dataframe\">\n",
       "  <thead>\n",
       "    <tr style=\"text-align: right;\">\n",
       "      <th></th>\n",
       "      <th></th>\n",
       "      <th>adjClose</th>\n",
       "      <th>adjHigh</th>\n",
       "      <th>adjLow</th>\n",
       "      <th>adjOpen</th>\n",
       "      <th>adjVolume</th>\n",
       "      <th>close</th>\n",
       "      <th>divCash</th>\n",
       "      <th>high</th>\n",
       "      <th>low</th>\n",
       "      <th>open</th>\n",
       "      <th>splitFactor</th>\n",
       "      <th>volume</th>\n",
       "    </tr>\n",
       "    <tr>\n",
       "      <th>symbol</th>\n",
       "      <th>date</th>\n",
       "      <th></th>\n",
       "      <th></th>\n",
       "      <th></th>\n",
       "      <th></th>\n",
       "      <th></th>\n",
       "      <th></th>\n",
       "      <th></th>\n",
       "      <th></th>\n",
       "      <th></th>\n",
       "      <th></th>\n",
       "      <th></th>\n",
       "      <th></th>\n",
       "    </tr>\n",
       "  </thead>\n",
       "  <tbody>\n",
       "    <tr>\n",
       "      <th rowspan=\"5\" valign=\"top\">msft</th>\n",
       "      <th>2000-01-03 00:00:00+00:00</th>\n",
       "      <td>37.371737</td>\n",
       "      <td>38.032219</td>\n",
       "      <td>35.909699</td>\n",
       "      <td>37.631441</td>\n",
       "      <td>53228400</td>\n",
       "      <td>116.56</td>\n",
       "      <td>0.0</td>\n",
       "      <td>118.62</td>\n",
       "      <td>112.00</td>\n",
       "      <td>117.37</td>\n",
       "      <td>1.0</td>\n",
       "      <td>26614200</td>\n",
       "    </tr>\n",
       "    <tr>\n",
       "      <th>2000-01-04 00:00:00+00:00</th>\n",
       "      <td>36.108485</td>\n",
       "      <td>37.551286</td>\n",
       "      <td>35.989855</td>\n",
       "      <td>36.409870</td>\n",
       "      <td>54119000</td>\n",
       "      <td>112.62</td>\n",
       "      <td>0.0</td>\n",
       "      <td>117.12</td>\n",
       "      <td>112.25</td>\n",
       "      <td>113.56</td>\n",
       "      <td>1.0</td>\n",
       "      <td>27059500</td>\n",
       "    </tr>\n",
       "    <tr>\n",
       "      <th>2000-01-05 00:00:00+00:00</th>\n",
       "      <td>36.490026</td>\n",
       "      <td>37.310819</td>\n",
       "      <td>35.066463</td>\n",
       "      <td>35.627552</td>\n",
       "      <td>64059600</td>\n",
       "      <td>113.81</td>\n",
       "      <td>0.0</td>\n",
       "      <td>116.37</td>\n",
       "      <td>109.37</td>\n",
       "      <td>111.12</td>\n",
       "      <td>1.0</td>\n",
       "      <td>32029800</td>\n",
       "    </tr>\n",
       "    <tr>\n",
       "      <th>2000-01-06 00:00:00+00:00</th>\n",
       "      <td>35.268455</td>\n",
       "      <td>36.509263</td>\n",
       "      <td>34.745840</td>\n",
       "      <td>35.970618</td>\n",
       "      <td>54976600</td>\n",
       "      <td>110.00</td>\n",
       "      <td>0.0</td>\n",
       "      <td>113.87</td>\n",
       "      <td>108.37</td>\n",
       "      <td>112.19</td>\n",
       "      <td>1.0</td>\n",
       "      <td>27488300</td>\n",
       "    </tr>\n",
       "    <tr>\n",
       "      <th>2000-01-07 00:00:00+00:00</th>\n",
       "      <td>35.730151</td>\n",
       "      <td>35.989855</td>\n",
       "      <td>34.405981</td>\n",
       "      <td>34.825996</td>\n",
       "      <td>62013600</td>\n",
       "      <td>111.44</td>\n",
       "      <td>0.0</td>\n",
       "      <td>112.25</td>\n",
       "      <td>107.31</td>\n",
       "      <td>108.62</td>\n",
       "      <td>1.0</td>\n",
       "      <td>31006800</td>\n",
       "    </tr>\n",
       "  </tbody>\n",
       "</table>\n",
       "</div>"
      ],
      "text/plain": [
       "                                   adjClose    adjHigh     adjLow    adjOpen  \\\n",
       "symbol date                                                                    \n",
       "msft   2000-01-03 00:00:00+00:00  37.371737  38.032219  35.909699  37.631441   \n",
       "       2000-01-04 00:00:00+00:00  36.108485  37.551286  35.989855  36.409870   \n",
       "       2000-01-05 00:00:00+00:00  36.490026  37.310819  35.066463  35.627552   \n",
       "       2000-01-06 00:00:00+00:00  35.268455  36.509263  34.745840  35.970618   \n",
       "       2000-01-07 00:00:00+00:00  35.730151  35.989855  34.405981  34.825996   \n",
       "\n",
       "                                  adjVolume   close  divCash    high     low  \\\n",
       "symbol date                                                                    \n",
       "msft   2000-01-03 00:00:00+00:00   53228400  116.56      0.0  118.62  112.00   \n",
       "       2000-01-04 00:00:00+00:00   54119000  112.62      0.0  117.12  112.25   \n",
       "       2000-01-05 00:00:00+00:00   64059600  113.81      0.0  116.37  109.37   \n",
       "       2000-01-06 00:00:00+00:00   54976600  110.00      0.0  113.87  108.37   \n",
       "       2000-01-07 00:00:00+00:00   62013600  111.44      0.0  112.25  107.31   \n",
       "\n",
       "                                    open  splitFactor    volume  \n",
       "symbol date                                                      \n",
       "msft   2000-01-03 00:00:00+00:00  117.37          1.0  26614200  \n",
       "       2000-01-04 00:00:00+00:00  113.56          1.0  27059500  \n",
       "       2000-01-05 00:00:00+00:00  111.12          1.0  32029800  \n",
       "       2000-01-06 00:00:00+00:00  112.19          1.0  27488300  \n",
       "       2000-01-07 00:00:00+00:00  108.62          1.0  31006800  "
      ]
     },
     "execution_count": 24,
     "metadata": {},
     "output_type": "execute_result"
    }
   ],
   "source": [
    "data.head()"
   ]
  },
  {
   "cell_type": "code",
   "execution_count": 25,
   "metadata": {},
   "outputs": [
    {
     "data": {
      "text/plain": [
       "(5188, 12)"
      ]
     },
     "execution_count": 25,
     "metadata": {},
     "output_type": "execute_result"
    }
   ],
   "source": [
    "data.shape"
   ]
  },
  {
   "cell_type": "code",
   "execution_count": 26,
   "metadata": {},
   "outputs": [
    {
     "data": {
      "text/plain": [
       "dtype('float64')"
      ]
     },
     "execution_count": 26,
     "metadata": {},
     "output_type": "execute_result"
    }
   ],
   "source": [
    "data['adjClose'].dtype"
   ]
  },
  {
   "cell_type": "code",
   "execution_count": 27,
   "metadata": {},
   "outputs": [
    {
     "data": {
      "image/png": "[encoded data removed]",
      "text/plain": [
       "<Figure size 432x288 with 1 Axes>"
      ]
     },
     "metadata": {
      "needs_background": "light"
     },
     "output_type": "display_data"
    }
   ],
   "source": [
    "plt.plot(data['low'],data['high'])\n",
    "plt.show()"
   ]
  },
  {
   "cell_type": "code",
   "execution_count": null,
   "metadata": {},
   "outputs": [],
   "source": []
  },
  {
   "cell_type": "code",
   "execution_count": 28,
   "metadata": {},
   "outputs": [],
   "source": [
    "data=data[['adjOpen','adjClose','adjHigh','adjLow','adjVolume']]"
   ]
  },
  {
   "cell_type": "code",
   "execution_count": 29,
   "metadata": {},
   "outputs": [
    {
     "data": {
      "text/plain": [
       "adjOpen      float64\n",
       "adjClose     float64\n",
       "adjHigh      float64\n",
       "adjLow       float64\n",
       "adjVolume      int64\n",
       "dtype: object"
      ]
     },
     "execution_count": 29,
     "metadata": {},
     "output_type": "execute_result"
    }
   ],
   "source": [
    "data.dtypes"
   ]
  },
  {
   "cell_type": "code",
   "execution_count": 30,
   "metadata": {},
   "outputs": [],
   "source": [
    "data1=data.copy()"
   ]
  },
  {
   "cell_type": "code",
   "execution_count": 31,
   "metadata": {},
   "outputs": [],
   "source": [
    "data1.reset_index(inplace=True)"
   ]
  },
  {
   "cell_type": "code",
   "execution_count": 32,
   "metadata": {},
   "outputs": [],
   "source": [
    "data1.set_index('date',inplace=True)"
   ]
  },
  {
   "cell_type": "code",
   "execution_count": 33,
   "metadata": {},
   "outputs": [],
   "source": [
    "data1.drop('symbol',axis=1,inplace=True)"
   ]
  },
  {
   "cell_type": "code",
   "execution_count": 34,
   "metadata": {},
   "outputs": [
    {
     "data": {
      "text/plain": [
       "(5188, 5)"
      ]
     },
     "execution_count": 34,
     "metadata": {},
     "output_type": "execute_result"
    }
   ],
   "source": [
    "data1.shape"
   ]
  },
  {
   "cell_type": "code",
   "execution_count": 35,
   "metadata": {},
   "outputs": [
    {
     "data": {
      "text/plain": [
       "(5188, 5)"
      ]
     },
     "execution_count": 35,
     "metadata": {},
     "output_type": "execute_result"
    }
   ],
   "source": [
    "data1.dropna().shape"
   ]
  },
  {
   "cell_type": "code",
   "execution_count": 36,
   "metadata": {},
   "outputs": [
    {
     "data": {
      "text/html": [
       "<div>\n",
       "<style scoped>\n",
       "    .dataframe tbody tr th:only-of-type {\n",
       "        vertical-align: middle;\n",
       "    }\n",
       "\n",
       "    .dataframe tbody tr th {\n",
       "        vertical-align: top;\n",
       "    }\n",
       "\n",
       "    .dataframe thead th {\n",
       "        text-align: right;\n",
       "    }\n",
       "</style>\n",
       "<table border=\"1\" class=\"dataframe\">\n",
       "  <thead>\n",
       "    <tr style=\"text-align: right;\">\n",
       "      <th></th>\n",
       "      <th>adjOpen</th>\n",
       "      <th>adjClose</th>\n",
       "      <th>adjHigh</th>\n",
       "      <th>adjLow</th>\n",
       "      <th>adjVolume</th>\n",
       "    </tr>\n",
       "    <tr>\n",
       "      <th>date</th>\n",
       "      <th></th>\n",
       "      <th></th>\n",
       "      <th></th>\n",
       "      <th></th>\n",
       "      <th></th>\n",
       "    </tr>\n",
       "  </thead>\n",
       "  <tbody>\n",
       "    <tr>\n",
       "      <th>2000-01-03 00:00:00+00:00</th>\n",
       "      <td>37.631441</td>\n",
       "      <td>37.371737</td>\n",
       "      <td>38.032219</td>\n",
       "      <td>35.909699</td>\n",
       "      <td>53228400</td>\n",
       "    </tr>\n",
       "    <tr>\n",
       "      <th>2000-01-04 00:00:00+00:00</th>\n",
       "      <td>36.409870</td>\n",
       "      <td>36.108485</td>\n",
       "      <td>37.551286</td>\n",
       "      <td>35.989855</td>\n",
       "      <td>54119000</td>\n",
       "    </tr>\n",
       "    <tr>\n",
       "      <th>2000-01-05 00:00:00+00:00</th>\n",
       "      <td>35.627552</td>\n",
       "      <td>36.490026</td>\n",
       "      <td>37.310819</td>\n",
       "      <td>35.066463</td>\n",
       "      <td>64059600</td>\n",
       "    </tr>\n",
       "    <tr>\n",
       "      <th>2000-01-06 00:00:00+00:00</th>\n",
       "      <td>35.970618</td>\n",
       "      <td>35.268455</td>\n",
       "      <td>36.509263</td>\n",
       "      <td>34.745840</td>\n",
       "      <td>54976600</td>\n",
       "    </tr>\n",
       "    <tr>\n",
       "      <th>2000-01-07 00:00:00+00:00</th>\n",
       "      <td>34.825996</td>\n",
       "      <td>35.730151</td>\n",
       "      <td>35.989855</td>\n",
       "      <td>34.405981</td>\n",
       "      <td>62013600</td>\n",
       "    </tr>\n",
       "  </tbody>\n",
       "</table>\n",
       "</div>"
      ],
      "text/plain": [
       "                             adjOpen   adjClose    adjHigh     adjLow  \\\n",
       "date                                                                    \n",
       "2000-01-03 00:00:00+00:00  37.631441  37.371737  38.032219  35.909699   \n",
       "2000-01-04 00:00:00+00:00  36.409870  36.108485  37.551286  35.989855   \n",
       "2000-01-05 00:00:00+00:00  35.627552  36.490026  37.310819  35.066463   \n",
       "2000-01-06 00:00:00+00:00  35.970618  35.268455  36.509263  34.745840   \n",
       "2000-01-07 00:00:00+00:00  34.825996  35.730151  35.989855  34.405981   \n",
       "\n",
       "                           adjVolume  \n",
       "date                                  \n",
       "2000-01-03 00:00:00+00:00   53228400  \n",
       "2000-01-04 00:00:00+00:00   54119000  \n",
       "2000-01-05 00:00:00+00:00   64059600  \n",
       "2000-01-06 00:00:00+00:00   54976600  \n",
       "2000-01-07 00:00:00+00:00   62013600  "
      ]
     },
     "execution_count": 36,
     "metadata": {},
     "output_type": "execute_result"
    }
   ],
   "source": [
    "data1.head()"
   ]
  },
  {
   "cell_type": "code",
   "execution_count": 37,
   "metadata": {},
   "outputs": [],
   "source": [
    "no_ofdays=20\n",
    "data1['newclose']=data1['adjClose'].shift(-no_ofdays)"
   ]
  },
  {
   "cell_type": "code",
   "execution_count": 38,
   "metadata": {},
   "outputs": [
    {
     "data": {
      "text/html": [
       "<div>\n",
       "<style scoped>\n",
       "    .dataframe tbody tr th:only-of-type {\n",
       "        vertical-align: middle;\n",
       "    }\n",
       "\n",
       "    .dataframe tbody tr th {\n",
       "        vertical-align: top;\n",
       "    }\n",
       "\n",
       "    .dataframe thead th {\n",
       "        text-align: right;\n",
       "    }\n",
       "</style>\n",
       "<table border=\"1\" class=\"dataframe\">\n",
       "  <thead>\n",
       "    <tr style=\"text-align: right;\">\n",
       "      <th></th>\n",
       "      <th>adjOpen</th>\n",
       "      <th>adjClose</th>\n",
       "      <th>adjHigh</th>\n",
       "      <th>adjLow</th>\n",
       "      <th>adjVolume</th>\n",
       "      <th>newclose</th>\n",
       "    </tr>\n",
       "    <tr>\n",
       "      <th>date</th>\n",
       "      <th></th>\n",
       "      <th></th>\n",
       "      <th></th>\n",
       "      <th></th>\n",
       "      <th></th>\n",
       "      <th></th>\n",
       "    </tr>\n",
       "  </thead>\n",
       "  <tbody>\n",
       "    <tr>\n",
       "      <th>2020-08-10 00:00:00+00:00</th>\n",
       "      <td>211.670</td>\n",
       "      <td>208.25</td>\n",
       "      <td>211.88</td>\n",
       "      <td>206.35</td>\n",
       "      <td>36716462</td>\n",
       "      <td>NaN</td>\n",
       "    </tr>\n",
       "    <tr>\n",
       "      <th>2020-08-11 00:00:00+00:00</th>\n",
       "      <td>207.155</td>\n",
       "      <td>203.38</td>\n",
       "      <td>207.65</td>\n",
       "      <td>203.14</td>\n",
       "      <td>36446459</td>\n",
       "      <td>NaN</td>\n",
       "    </tr>\n",
       "    <tr>\n",
       "      <th>2020-08-12 00:00:00+00:00</th>\n",
       "      <td>205.290</td>\n",
       "      <td>209.19</td>\n",
       "      <td>210.28</td>\n",
       "      <td>204.75</td>\n",
       "      <td>28041364</td>\n",
       "      <td>NaN</td>\n",
       "    </tr>\n",
       "    <tr>\n",
       "      <th>2020-08-13 00:00:00+00:00</th>\n",
       "      <td>209.440</td>\n",
       "      <td>208.70</td>\n",
       "      <td>211.35</td>\n",
       "      <td>208.15</td>\n",
       "      <td>22588870</td>\n",
       "      <td>NaN</td>\n",
       "    </tr>\n",
       "    <tr>\n",
       "      <th>2020-08-14 00:00:00+00:00</th>\n",
       "      <td>208.760</td>\n",
       "      <td>208.90</td>\n",
       "      <td>209.59</td>\n",
       "      <td>207.51</td>\n",
       "      <td>17958936</td>\n",
       "      <td>NaN</td>\n",
       "    </tr>\n",
       "  </tbody>\n",
       "</table>\n",
       "</div>"
      ],
      "text/plain": [
       "                           adjOpen  adjClose  adjHigh  adjLow  adjVolume  \\\n",
       "date                                                                       \n",
       "2020-08-10 00:00:00+00:00  211.670    208.25   211.88  206.35   36716462   \n",
       "2020-08-11 00:00:00+00:00  207.155    203.38   207.65  203.14   36446459   \n",
       "2020-08-12 00:00:00+00:00  205.290    209.19   210.28  204.75   28041364   \n",
       "2020-08-13 00:00:00+00:00  209.440    208.70   211.35  208.15   22588870   \n",
       "2020-08-14 00:00:00+00:00  208.760    208.90   209.59  207.51   17958936   \n",
       "\n",
       "                           newclose  \n",
       "date                                 \n",
       "2020-08-10 00:00:00+00:00       NaN  \n",
       "2020-08-11 00:00:00+00:00       NaN  \n",
       "2020-08-12 00:00:00+00:00       NaN  \n",
       "2020-08-13 00:00:00+00:00       NaN  \n",
       "2020-08-14 00:00:00+00:00       NaN  "
      ]
     },
     "execution_count": 38,
     "metadata": {},
     "output_type": "execute_result"
    }
   ],
   "source": [
    "data1.tail()"
   ]
  },
  {
   "cell_type": "code",
   "execution_count": 39,
   "metadata": {},
   "outputs": [],
   "source": [
    "x=data1[['adjHigh','adjLow','adjOpen','adjVolume']]\n",
    "y=data1['newclose'].dropna()"
   ]
  },
  {
   "cell_type": "code",
   "execution_count": 40,
   "metadata": {},
   "outputs": [
    {
     "data": {
      "text/plain": [
       "((5168, 4), (20, 4))"
      ]
     },
     "execution_count": 40,
     "metadata": {},
     "output_type": "execute_result"
    }
   ],
   "source": [
    "x1=x[:-no_ofdays]\n",
    "x2=x[-no_ofdays:]\n",
    "x1.shape,x2.shape"
   ]
  },
  {
   "cell_type": "code",
   "execution_count": 41,
   "metadata": {},
   "outputs": [],
   "source": [
    "from sklearn.model_selection import train_test_split"
   ]
  },
  {
   "cell_type": "code",
   "execution_count": 42,
   "metadata": {},
   "outputs": [],
   "source": [
    "x_tr,x_ts,y_tr,y_ts=train_test_split(x1,y,test_size=0.2)"
   ]
  },
  {
   "cell_type": "code",
   "execution_count": 43,
   "metadata": {},
   "outputs": [
    {
     "name": "stdout",
     "output_type": "stream",
     "text": [
      "0.9902048623912718\n",
      "[217.94141787 214.92237954 217.71183292 213.03304373 206.23456373\n",
      " 209.25269153 208.67701498 210.00784658 209.38511685 206.07023386\n",
      " 223.62374933 217.19569359 217.8225173  222.23733401 218.27701955\n",
      " 213.03702108 209.79543306 216.44987852 216.18354523 214.14895263]\n"
     ]
    }
   ],
   "source": [
    "from sklearn.linear_model import LinearRegression\n",
    "algo=LinearRegression()\n",
    "algo.fit(x_tr,y_tr)\n",
    "print(algo.score(x_ts,y_ts))\n",
    "print(algo.predict(x2))"
   ]
  },
  {
   "cell_type": "code",
   "execution_count": 44,
   "metadata": {},
   "outputs": [
    {
     "name": "stdout",
     "output_type": "stream",
     "text": [
      "[ 1.28776280e+00  7.88431969e-01 -1.04876101e+00 -5.03439227e-09]\n"
     ]
    }
   ],
   "source": [
    "print(algo.coef_)"
   ]
  },
  {
   "cell_type": "code",
   "execution_count": 45,
   "metadata": {},
   "outputs": [
    {
     "data": {
      "text/plain": [
       "-0.3310103864196776"
      ]
     },
     "execution_count": 45,
     "metadata": {},
     "output_type": "execute_result"
    }
   ],
   "source": [
    "algo.intercept_"
   ]
  },
  {
   "cell_type": "code",
   "execution_count": 46,
   "metadata": {},
   "outputs": [
    {
     "data": {
      "text/plain": [
       "0.9891542432154176"
      ]
     },
     "execution_count": 46,
     "metadata": {},
     "output_type": "execute_result"
    }
   ],
   "source": [
    "from sklearn.preprocessing import scale\n",
    "from sklearn.neighbors import KNeighborsRegressor\n",
    "algo2=KNeighborsRegressor()\n",
    "algo2.fit(scale(x_tr),scale(y_tr))\n",
    "algo2.score(scale(x_ts),scale(y_ts))"
   ]
  },
  {
   "cell_type": "code",
   "execution_count": 47,
   "metadata": {},
   "outputs": [
    {
     "data": {
      "text/plain": [
       "0.9903536498782592"
      ]
     },
     "execution_count": 47,
     "metadata": {},
     "output_type": "execute_result"
    }
   ],
   "source": [
    "from sklearn.svm import SVR\n",
    "algo3=SVR()\n",
    "algo3.fit(scale(x_tr),scale(y_tr))\n",
    "algo3.score(scale(x_ts),scale(y_ts))"
   ]
  },
  {
   "cell_type": "code",
   "execution_count": 48,
   "metadata": {},
   "outputs": [
    {
     "data": {
      "text/plain": [
       "0.9868070391396964"
      ]
     },
     "execution_count": 48,
     "metadata": {},
     "output_type": "execute_result"
    }
   ],
   "source": [
    "from sklearn.tree import DecisionTreeRegressor\n",
    "algo4=DecisionTreeRegressor()\n",
    "algo4.fit(x_tr,y_tr)\n",
    "algo4.score(x_ts,y_ts)"
   ]
  },
  {
   "cell_type": "code",
   "execution_count": 49,
   "metadata": {},
   "outputs": [
    {
     "name": "stderr",
     "output_type": "stream",
     "text": [
      "C:\\Users\\pulki\\Anaconda3\\lib\\site-packages\\sklearn\\ensemble\\forest.py:245: FutureWarning: The default value of n_estimators will change from 10 in version 0.20 to 100 in 0.22.\n",
      "  \"10 in version 0.20 to 100 in 0.22.\", FutureWarning)\n"
     ]
    },
    {
     "data": {
      "text/plain": [
       "0.9921787247729971"
      ]
     },
     "execution_count": 49,
     "metadata": {},
     "output_type": "execute_result"
    }
   ],
   "source": [
    "from sklearn.ensemble import RandomForestRegressor\n",
    "algo5=RandomForestRegressor()\n",
    "algo5.fit(x_tr,y_tr)\n",
    "algo5.score(x_ts,y_ts)"
   ]
  },
  {
   "cell_type": "code",
   "execution_count": 50,
   "metadata": {},
   "outputs": [
    {
     "data": {
      "text/plain": [
       "0.9891782006812098"
      ]
     },
     "execution_count": 50,
     "metadata": {},
     "output_type": "execute_result"
    }
   ],
   "source": [
    "from sklearn.ensemble import GradientBoostingRegressor\n",
    "algo6=GradientBoostingRegressor()\n",
    "algo6.fit(x_tr,y_tr)\n",
    "algo6.score(x_ts,y_ts)"
   ]
  },
  {
   "cell_type": "code",
   "execution_count": 51,
   "metadata": {},
   "outputs": [
    {
     "data": {
      "text/plain": [
       "0.9836042673607435"
      ]
     },
     "execution_count": 51,
     "metadata": {},
     "output_type": "execute_result"
    }
   ],
   "source": [
    "from sklearn.ensemble import AdaBoostRegressor\n",
    "algo7=AdaBoostRegressor()\n",
    "algo7.fit(x_tr,y_tr)\n",
    "algo7.score(x_ts,y_ts)"
   ]
  },
  {
   "cell_type": "code",
   "execution_count": 52,
   "metadata": {},
   "outputs": [
    {
     "name": "stderr",
     "output_type": "stream",
     "text": [
      "C:\\Users\\pulki\\Anaconda3\\lib\\site-packages\\sklearn\\ensemble\\forest.py:245: FutureWarning: The default value of n_estimators will change from 10 in version 0.20 to 100 in 0.22.\n",
      "  \"10 in version 0.20 to 100 in 0.22.\", FutureWarning)\n"
     ]
    },
    {
     "data": {
      "text/plain": [
       "0.9904906597520864"
      ]
     },
     "execution_count": 52,
     "metadata": {},
     "output_type": "execute_result"
    }
   ],
   "source": [
    "from sklearn.ensemble import ExtraTreesRegressor\n",
    "algo8=ExtraTreesRegressor()\n",
    "algo8.fit(x_tr,y_tr)\n",
    "algo8.score(x_ts,y_ts)"
   ]
  },
  {
   "cell_type": "code",
   "execution_count": 53,
   "metadata": {},
   "outputs": [
    {
     "data": {
      "text/plain": [
       "0.9920074135468799"
      ]
     },
     "execution_count": 53,
     "metadata": {},
     "output_type": "execute_result"
    }
   ],
   "source": [
    "from sklearn.ensemble import BaggingRegressor\n",
    "1algo9=BaggingRegressor()\n",
    "algo9.fit(x_tr,y_tr)\n",
    "algo9.score(x_ts,y_ts)"
   ]
  },
  {
   "cell_type": "code",
   "execution_count": 54,
   "metadata": {},
   "outputs": [],
   "source": [
    "new=algo.predict(x2)"
   ]
  },
  {
   "cell_type": "code",
   "execution_count": 55,
   "metadata": {},
   "outputs": [],
   "source": [
    "import numpy as np\n",
    "data1['forecasted']=np.nan"
   ]
  },
  {
   "cell_type": "code",
   "execution_count": 56,
   "metadata": {},
   "outputs": [
    {
     "data": {
      "text/html": [
       "<div>\n",
       "<style scoped>\n",
       "    .dataframe tbody tr th:only-of-type {\n",
       "        vertical-align: middle;\n",
       "    }\n",
       "\n",
       "    .dataframe tbody tr th {\n",
       "        vertical-align: top;\n",
       "    }\n",
       "\n",
       "    .dataframe thead th {\n",
       "        text-align: right;\n",
       "    }\n",
       "</style>\n",
       "<table border=\"1\" class=\"dataframe\">\n",
       "  <thead>\n",
       "    <tr style=\"text-align: right;\">\n",
       "      <th></th>\n",
       "      <th>adjOpen</th>\n",
       "      <th>adjClose</th>\n",
       "      <th>adjHigh</th>\n",
       "      <th>adjLow</th>\n",
       "      <th>adjVolume</th>\n",
       "      <th>newclose</th>\n",
       "      <th>forecasted</th>\n",
       "    </tr>\n",
       "    <tr>\n",
       "      <th>date</th>\n",
       "      <th></th>\n",
       "      <th></th>\n",
       "      <th></th>\n",
       "      <th></th>\n",
       "      <th></th>\n",
       "      <th></th>\n",
       "      <th></th>\n",
       "    </tr>\n",
       "  </thead>\n",
       "  <tbody>\n",
       "    <tr>\n",
       "      <th>2020-07-17 00:00:00+00:00</th>\n",
       "      <td>204.470</td>\n",
       "      <td>202.88</td>\n",
       "      <td>205.0400</td>\n",
       "      <td>201.39</td>\n",
       "      <td>31636070</td>\n",
       "      <td>208.9</td>\n",
       "      <td>NaN</td>\n",
       "    </tr>\n",
       "    <tr>\n",
       "      <th>2020-07-20 00:00:00+00:00</th>\n",
       "      <td>205.000</td>\n",
       "      <td>211.60</td>\n",
       "      <td>212.3000</td>\n",
       "      <td>203.01</td>\n",
       "      <td>36386080</td>\n",
       "      <td>NaN</td>\n",
       "      <td>NaN</td>\n",
       "    </tr>\n",
       "    <tr>\n",
       "      <th>2020-07-21 00:00:00+00:00</th>\n",
       "      <td>213.660</td>\n",
       "      <td>208.75</td>\n",
       "      <td>213.9400</td>\n",
       "      <td>208.03</td>\n",
       "      <td>37702523</td>\n",
       "      <td>NaN</td>\n",
       "      <td>NaN</td>\n",
       "    </tr>\n",
       "    <tr>\n",
       "      <th>2020-07-22 00:00:00+00:00</th>\n",
       "      <td>209.200</td>\n",
       "      <td>211.75</td>\n",
       "      <td>212.3000</td>\n",
       "      <td>208.39</td>\n",
       "      <td>49605692</td>\n",
       "      <td>NaN</td>\n",
       "      <td>NaN</td>\n",
       "    </tr>\n",
       "    <tr>\n",
       "      <th>2020-07-23 00:00:00+00:00</th>\n",
       "      <td>207.190</td>\n",
       "      <td>202.54</td>\n",
       "      <td>210.9200</td>\n",
       "      <td>202.15</td>\n",
       "      <td>67457035</td>\n",
       "      <td>NaN</td>\n",
       "      <td>NaN</td>\n",
       "    </tr>\n",
       "    <tr>\n",
       "      <th>2020-07-24 00:00:00+00:00</th>\n",
       "      <td>200.420</td>\n",
       "      <td>201.30</td>\n",
       "      <td>202.8600</td>\n",
       "      <td>197.51</td>\n",
       "      <td>39826989</td>\n",
       "      <td>NaN</td>\n",
       "      <td>NaN</td>\n",
       "    </tr>\n",
       "    <tr>\n",
       "      <th>2020-07-27 00:00:00+00:00</th>\n",
       "      <td>201.470</td>\n",
       "      <td>203.85</td>\n",
       "      <td>203.9700</td>\n",
       "      <td>200.86</td>\n",
       "      <td>30160867</td>\n",
       "      <td>NaN</td>\n",
       "      <td>NaN</td>\n",
       "    </tr>\n",
       "    <tr>\n",
       "      <th>2020-07-28 00:00:00+00:00</th>\n",
       "      <td>203.610</td>\n",
       "      <td>202.02</td>\n",
       "      <td>204.7000</td>\n",
       "      <td>201.74</td>\n",
       "      <td>23251388</td>\n",
       "      <td>NaN</td>\n",
       "      <td>NaN</td>\n",
       "    </tr>\n",
       "    <tr>\n",
       "      <th>2020-07-29 00:00:00+00:00</th>\n",
       "      <td>202.500</td>\n",
       "      <td>204.06</td>\n",
       "      <td>204.6500</td>\n",
       "      <td>202.01</td>\n",
       "      <td>19632602</td>\n",
       "      <td>NaN</td>\n",
       "      <td>NaN</td>\n",
       "    </tr>\n",
       "    <tr>\n",
       "      <th>2020-07-30 00:00:00+00:00</th>\n",
       "      <td>201.000</td>\n",
       "      <td>203.90</td>\n",
       "      <td>204.4600</td>\n",
       "      <td>199.57</td>\n",
       "      <td>25079596</td>\n",
       "      <td>NaN</td>\n",
       "      <td>NaN</td>\n",
       "    </tr>\n",
       "    <tr>\n",
       "      <th>2020-07-31 00:00:00+00:00</th>\n",
       "      <td>204.400</td>\n",
       "      <td>205.01</td>\n",
       "      <td>205.1000</td>\n",
       "      <td>199.01</td>\n",
       "      <td>51247969</td>\n",
       "      <td>NaN</td>\n",
       "      <td>NaN</td>\n",
       "    </tr>\n",
       "    <tr>\n",
       "      <th>2020-08-03 00:00:00+00:00</th>\n",
       "      <td>211.520</td>\n",
       "      <td>216.54</td>\n",
       "      <td>217.6400</td>\n",
       "      <td>210.44</td>\n",
       "      <td>78983009</td>\n",
       "      <td>NaN</td>\n",
       "      <td>NaN</td>\n",
       "    </tr>\n",
       "    <tr>\n",
       "      <th>2020-08-04 00:00:00+00:00</th>\n",
       "      <td>214.170</td>\n",
       "      <td>213.29</td>\n",
       "      <td>214.7700</td>\n",
       "      <td>210.31</td>\n",
       "      <td>49280056</td>\n",
       "      <td>NaN</td>\n",
       "      <td>NaN</td>\n",
       "    </tr>\n",
       "    <tr>\n",
       "      <th>2020-08-05 00:00:00+00:00</th>\n",
       "      <td>214.900</td>\n",
       "      <td>212.94</td>\n",
       "      <td>215.0000</td>\n",
       "      <td>211.57</td>\n",
       "      <td>28858621</td>\n",
       "      <td>NaN</td>\n",
       "      <td>NaN</td>\n",
       "    </tr>\n",
       "    <tr>\n",
       "      <th>2020-08-06 00:00:00+00:00</th>\n",
       "      <td>212.340</td>\n",
       "      <td>216.35</td>\n",
       "      <td>216.3705</td>\n",
       "      <td>211.55</td>\n",
       "      <td>32656843</td>\n",
       "      <td>NaN</td>\n",
       "      <td>NaN</td>\n",
       "    </tr>\n",
       "    <tr>\n",
       "      <th>2020-08-07 00:00:00+00:00</th>\n",
       "      <td>214.850</td>\n",
       "      <td>212.48</td>\n",
       "      <td>215.7000</td>\n",
       "      <td>210.93</td>\n",
       "      <td>27820421</td>\n",
       "      <td>NaN</td>\n",
       "      <td>NaN</td>\n",
       "    </tr>\n",
       "    <tr>\n",
       "      <th>2020-08-10 00:00:00+00:00</th>\n",
       "      <td>211.670</td>\n",
       "      <td>208.25</td>\n",
       "      <td>211.8800</td>\n",
       "      <td>206.35</td>\n",
       "      <td>36716462</td>\n",
       "      <td>NaN</td>\n",
       "      <td>NaN</td>\n",
       "    </tr>\n",
       "    <tr>\n",
       "      <th>2020-08-11 00:00:00+00:00</th>\n",
       "      <td>207.155</td>\n",
       "      <td>203.38</td>\n",
       "      <td>207.6500</td>\n",
       "      <td>203.14</td>\n",
       "      <td>36446459</td>\n",
       "      <td>NaN</td>\n",
       "      <td>NaN</td>\n",
       "    </tr>\n",
       "    <tr>\n",
       "      <th>2020-08-12 00:00:00+00:00</th>\n",
       "      <td>205.290</td>\n",
       "      <td>209.19</td>\n",
       "      <td>210.2800</td>\n",
       "      <td>204.75</td>\n",
       "      <td>28041364</td>\n",
       "      <td>NaN</td>\n",
       "      <td>NaN</td>\n",
       "    </tr>\n",
       "    <tr>\n",
       "      <th>2020-08-13 00:00:00+00:00</th>\n",
       "      <td>209.440</td>\n",
       "      <td>208.70</td>\n",
       "      <td>211.3500</td>\n",
       "      <td>208.15</td>\n",
       "      <td>22588870</td>\n",
       "      <td>NaN</td>\n",
       "      <td>NaN</td>\n",
       "    </tr>\n",
       "    <tr>\n",
       "      <th>2020-08-14 00:00:00+00:00</th>\n",
       "      <td>208.760</td>\n",
       "      <td>208.90</td>\n",
       "      <td>209.5900</td>\n",
       "      <td>207.51</td>\n",
       "      <td>17958936</td>\n",
       "      <td>NaN</td>\n",
       "      <td>NaN</td>\n",
       "    </tr>\n",
       "  </tbody>\n",
       "</table>\n",
       "</div>"
      ],
      "text/plain": [
       "                           adjOpen  adjClose   adjHigh  adjLow  adjVolume  \\\n",
       "date                                                                        \n",
       "2020-07-17 00:00:00+00:00  204.470    202.88  205.0400  201.39   31636070   \n",
       "2020-07-20 00:00:00+00:00  205.000    211.60  212.3000  203.01   36386080   \n",
       "2020-07-21 00:00:00+00:00  213.660    208.75  213.9400  208.03   37702523   \n",
       "2020-07-22 00:00:00+00:00  209.200    211.75  212.3000  208.39   49605692   \n",
       "2020-07-23 00:00:00+00:00  207.190    202.54  210.9200  202.15   67457035   \n",
       "2020-07-24 00:00:00+00:00  200.420    201.30  202.8600  197.51   39826989   \n",
       "2020-07-27 00:00:00+00:00  201.470    203.85  203.9700  200.86   30160867   \n",
       "2020-07-28 00:00:00+00:00  203.610    202.02  204.7000  201.74   23251388   \n",
       "2020-07-29 00:00:00+00:00  202.500    204.06  204.6500  202.01   19632602   \n",
       "2020-07-30 00:00:00+00:00  201.000    203.90  204.4600  199.57   25079596   \n",
       "2020-07-31 00:00:00+00:00  204.400    205.01  205.1000  199.01   51247969   \n",
       "2020-08-03 00:00:00+00:00  211.520    216.54  217.6400  210.44   78983009   \n",
       "2020-08-04 00:00:00+00:00  214.170    213.29  214.7700  210.31   49280056   \n",
       "2020-08-05 00:00:00+00:00  214.900    212.94  215.0000  211.57   28858621   \n",
       "2020-08-06 00:00:00+00:00  212.340    216.35  216.3705  211.55   32656843   \n",
       "2020-08-07 00:00:00+00:00  214.850    212.48  215.7000  210.93   27820421   \n",
       "2020-08-10 00:00:00+00:00  211.670    208.25  211.8800  206.35   36716462   \n",
       "2020-08-11 00:00:00+00:00  207.155    203.38  207.6500  203.14   36446459   \n",
       "2020-08-12 00:00:00+00:00  205.290    209.19  210.2800  204.75   28041364   \n",
       "2020-08-13 00:00:00+00:00  209.440    208.70  211.3500  208.15   22588870   \n",
       "2020-08-14 00:00:00+00:00  208.760    208.90  209.5900  207.51   17958936   \n",
       "\n",
       "                           newclose  forecasted  \n",
       "date                                             \n",
       "2020-07-17 00:00:00+00:00     208.9         NaN  \n",
       "2020-07-20 00:00:00+00:00       NaN         NaN  \n",
       "2020-07-21 00:00:00+00:00       NaN         NaN  \n",
       "2020-07-22 00:00:00+00:00       NaN         NaN  \n",
       "2020-07-23 00:00:00+00:00       NaN         NaN  \n",
       "2020-07-24 00:00:00+00:00       NaN         NaN  \n",
       "2020-07-27 00:00:00+00:00       NaN         NaN  \n",
       "2020-07-28 00:00:00+00:00       NaN         NaN  \n",
       "2020-07-29 00:00:00+00:00       NaN         NaN  \n",
       "2020-07-30 00:00:00+00:00       NaN         NaN  \n",
       "2020-07-31 00:00:00+00:00       NaN         NaN  \n",
       "2020-08-03 00:00:00+00:00       NaN         NaN  \n",
       "2020-08-04 00:00:00+00:00       NaN         NaN  \n",
       "2020-08-05 00:00:00+00:00       NaN         NaN  \n",
       "2020-08-06 00:00:00+00:00       NaN         NaN  \n",
       "2020-08-07 00:00:00+00:00       NaN         NaN  \n",
       "2020-08-10 00:00:00+00:00       NaN         NaN  \n",
       "2020-08-11 00:00:00+00:00       NaN         NaN  \n",
       "2020-08-12 00:00:00+00:00       NaN         NaN  \n",
       "2020-08-13 00:00:00+00:00       NaN         NaN  \n",
       "2020-08-14 00:00:00+00:00       NaN         NaN  "
      ]
     },
     "execution_count": 56,
     "metadata": {},
     "output_type": "execute_result"
    }
   ],
   "source": [
    "data1.tail(21)"
   ]
  },
  {
   "cell_type": "code",
   "execution_count": 57,
   "metadata": {},
   "outputs": [],
   "source": [
    "last=data1.iloc[-1].name"
   ]
  },
  {
   "cell_type": "code",
   "execution_count": 58,
   "metadata": {},
   "outputs": [
    {
     "data": {
      "text/plain": [
       "Timestamp('2020-08-14 00:00:00+0000', tz='UTC')"
      ]
     },
     "execution_count": 58,
     "metadata": {},
     "output_type": "execute_result"
    }
   ],
   "source": [
    "last"
   ]
  },
  {
   "cell_type": "code",
   "execution_count": 59,
   "metadata": {},
   "outputs": [],
   "source": [
    "for i in new:\n",
    "    last+=datetime.timedelta(1)\n",
    "    if last.dayofweek==5:\n",
    "        last=last+datetime.timedelta(2)\n",
    "    data1.loc[last]=[np.nan for m in range(6)]+[i]"
   ]
  },
  {
   "cell_type": "code",
   "execution_count": 60,
   "metadata": {
    "scrolled": true
   },
   "outputs": [
    {
     "data": {
      "application/javascript": [
       "/* Put everything inside the global mpl namespace */\n",
       "window.mpl = {};\n",
       "\n",
       "\n",
       "mpl.get_websocket_type = function() {\n",
       "    if (typeof(WebSocket) !== 'undefined') {\n",
       "        return WebSocket;\n",
       "    } else if (typeof(MozWebSocket) !== 'undefined') {\n",
       "        return MozWebSocket;\n",
       "    } else {\n",
       "        alert('Your browser does not have WebSocket support. ' +\n",
       "              'Please try Chrome, Safari or Firefox ≥ 6. ' +\n",
       "              'Firefox 4 and 5 are also supported but you ' +\n",
       "              'have to enable WebSockets in about:config.');\n",
       "    };\n",
       "}\n",
       "\n",
       "mpl.figure = function(figure_id, websocket, ondownload, parent_element) {\n",
       "    this.id = figure_id;\n",
       "\n",
       "    this.ws = websocket;\n",
       "\n",
       "    this.supports_binary = (this.ws.binaryType != undefined);\n",
       "\n",
       "    if (!this.supports_binary) {\n",
       "        var warnings = document.getElementById(\"mpl-warnings\");\n",
       "        if (warnings) {\n",
       "            warnings.style.display = 'block';\n",
       "            warnings.textContent = (\n",
       "                \"This browser does not support binary websocket messages. \" +\n",
       "                    \"Performance may be slow.\");\n",
       "        }\n",
       "    }\n",
       "\n",
       "    this.imageObj = new Image();\n",
       "\n",
       "    this.context = undefined;\n",
       "    this.message = undefined;\n",
       "    this.canvas = undefined;\n",
       "    this.rubberband_canvas = undefined;\n",
       "    this.rubberband_context = undefined;\n",
       "    this.format_dropdown = undefined;\n",
       "\n",
       "    this.image_mode = 'full';\n",
       "\n",
       "    this.root = $('<div/>');\n",
       "    this._root_extra_style(this.root)\n",
       "    this.root.attr('style', 'display: inline-block');\n",
       "\n",
       "    $(parent_element).append(this.root);\n",
       "\n",
       "    this._init_header(this);\n",
       "    this._init_canvas(this);\n",
       "    this._init_toolbar(this);\n",
       "\n",
       "    var fig = this;\n",
       "\n",
       "    this.waiting = false;\n",
       "\n",
       "    this.ws.onopen =  function () {\n",
       "            fig.send_message(\"supports_binary\", {value: fig.supports_binary});\n",
       "            fig.send_message(\"send_image_mode\", {});\n",
       "            if (mpl.ratio != 1) {\n",
       "                fig.send_message(\"set_dpi_ratio\", {'dpi_ratio': mpl.ratio});\n",
       "            }\n",
       "            fig.send_message(\"refresh\", {});\n",
       "        }\n",
       "\n",
       "    this.imageObj.onload = function() {\n",
       "            if (fig.image_mode == 'full') {\n",
       "                // Full images could contain transparency (where diff images\n",
       "                // almost always do), so we need to clear the canvas so that\n",
       "                // there is no ghosting.\n",
       "                fig.context.clearRect(0, 0, fig.canvas.width, fig.canvas.height);\n",
       "            }\n",
       "            fig.context.drawImage(fig.imageObj, 0, 0);\n",
       "        };\n",
       "\n",
       "    this.imageObj.onunload = function() {\n",
       "        fig.ws.close();\n",
       "    }\n",
       "\n",
       "    this.ws.onmessage = this._make_on_message_function(this);\n",
       "\n",
       "    this.ondownload = ondownload;\n",
       "}\n",
       "\n",
       "mpl.figure.prototype._init_header = function() {\n",
       "    var titlebar = $(\n",
       "        '<div class=\"ui-dialog-titlebar ui-widget-header ui-corner-all ' +\n",
       "        'ui-helper-clearfix\"/>');\n",
       "    var titletext = $(\n",
       "        '<div class=\"ui-dialog-title\" style=\"width: 100%; ' +\n",
       "        'text-align: center; padding: 3px;\"/>');\n",
       "    titlebar.append(titletext)\n",
       "    this.root.append(titlebar);\n",
       "    this.header = titletext[0];\n",
       "}\n",
       "\n",
       "\n",
       "\n",
       "mpl.figure.prototype._canvas_extra_style = function(canvas_div) {\n",
       "\n",
       "}\n",
       "\n",
       "\n",
       "mpl.figure.prototype._root_extra_style = function(canvas_div) {\n",
       "\n",
       "}\n",
       "\n",
       "mpl.figure.prototype._init_canvas = function() {\n",
       "    var fig = this;\n",
       "\n",
       "    var canvas_div = $('<div/>');\n",
       "\n",
       "    canvas_div.attr('style', 'position: relative; clear: both; outline: 0');\n",
       "\n",
       "    function canvas_keyboard_event(event) {\n",
       "        return fig.key_event(event, event['data']);\n",
       "    }\n",
       "\n",
       "    canvas_div.keydown('key_press', canvas_keyboard_event);\n",
       "    canvas_div.keyup('key_release', canvas_keyboard_event);\n",
       "    this.canvas_div = canvas_div\n",
       "    this._canvas_extra_style(canvas_div)\n",
       "    this.root.append(canvas_div);\n",
       "\n",
       "    var canvas = $('<canvas/>');\n",
       "    canvas.addClass('mpl-canvas');\n",
       "    canvas.attr('style', \"left: 0; top: 0; z-index: 0; outline: 0\")\n",
       "\n",
       "    this.canvas = canvas[0];\n",
       "    this.context = canvas[0].getContext(\"2d\");\n",
       "\n",
       "    var backingStore = this.context.backingStorePixelRatio ||\n",
       "\tthis.context.webkitBackingStorePixelRatio ||\n",
       "\tthis.context.mozBackingStorePixelRatio ||\n",
       "\tthis.context.msBackingStorePixelRatio ||\n",
       "\tthis.context.oBackingStorePixelRatio ||\n",
       "\tthis.context.backingStorePixelRatio || 1;\n",
       "\n",
       "    mpl.ratio = (window.devicePixelRatio || 1) / backingStore;\n",
       "\n",
       "    var rubberband = $('<canvas/>');\n",
       "    rubberband.attr('style', \"position: absolute; left: 0; top: 0; z-index: 1;\")\n",
       "\n",
       "    var pass_mouse_events = true;\n",
       "\n",
       "    canvas_div.resizable({\n",
       "        start: function(event, ui) {\n",
       "            pass_mouse_events = false;\n",
       "        },\n",
       "        resize: function(event, ui) {\n",
       "            fig.request_resize(ui.size.width, ui.size.height);\n",
       "        },\n",
       "        stop: function(event, ui) {\n",
       "            pass_mouse_events = true;\n",
       "            fig.request_resize(ui.size.width, ui.size.height);\n",
       "        },\n",
       "    });\n",
       "\n",
       "    function mouse_event_fn(event) {\n",
       "        if (pass_mouse_events)\n",
       "            return fig.mouse_event(event, event['data']);\n",
       "    }\n",
       "\n",
       "    rubberband.mousedown('button_press', mouse_event_fn);\n",
       "    rubberband.mouseup('button_release', mouse_event_fn);\n",
       "    // Throttle sequential mouse events to 1 every 20ms.\n",
       "    rubberband.mousemove('motion_notify', mouse_event_fn);\n",
       "\n",
       "    rubberband.mouseenter('figure_enter', mouse_event_fn);\n",
       "    rubberband.mouseleave('figure_leave', mouse_event_fn);\n",
       "\n",
       "    canvas_div.on(\"wheel\", function (event) {\n",
       "        event = event.originalEvent;\n",
       "        event['data'] = 'scroll'\n",
       "        if (event.deltaY < 0) {\n",
       "            event.step = 1;\n",
       "        } else {\n",
       "            event.step = -1;\n",
       "        }\n",
       "        mouse_event_fn(event);\n",
       "    });\n",
       "\n",
       "    canvas_div.append(canvas);\n",
       "    canvas_div.append(rubberband);\n",
       "\n",
       "    this.rubberband = rubberband;\n",
       "    this.rubberband_canvas = rubberband[0];\n",
       "    this.rubberband_context = rubberband[0].getContext(\"2d\");\n",
       "    this.rubberband_context.strokeStyle = \"#000000\";\n",
       "\n",
       "    this._resize_canvas = function(width, height) {\n",
       "        // Keep the size of the canvas, canvas container, and rubber band\n",
       "        // canvas in synch.\n",
       "        canvas_div.css('width', width)\n",
       "        canvas_div.css('height', height)\n",
       "\n",
       "        canvas.attr('width', width * mpl.ratio);\n",
       "        canvas.attr('height', height * mpl.ratio);\n",
       "        canvas.attr('style', 'width: ' + width + 'px; height: ' + height + 'px;');\n",
       "\n",
       "        rubberband.attr('width', width);\n",
       "        rubberband.attr('height', height);\n",
       "    }\n",
       "\n",
       "    // Set the figure to an initial 600x600px, this will subsequently be updated\n",
       "    // upon first draw.\n",
       "    this._resize_canvas(600, 600);\n",
       "\n",
       "    // Disable right mouse context menu.\n",
       "    $(this.rubberband_canvas).bind(\"contextmenu\",function(e){\n",
       "        return false;\n",
       "    });\n",
       "\n",
       "    function set_focus () {\n",
       "        canvas.focus();\n",
       "        canvas_div.focus();\n",
       "    }\n",
       "\n",
       "    window.setTimeout(set_focus, 100);\n",
       "}\n",
       "\n",
       "mpl.figure.prototype._init_toolbar = function() {\n",
       "    var fig = this;\n",
       "\n",
       "    var nav_element = $('<div/>');\n",
       "    nav_element.attr('style', 'width: 100%');\n",
       "    this.root.append(nav_element);\n",
       "\n",
       "    // Define a callback function for later on.\n",
       "    function toolbar_event(event) {\n",
       "        return fig.toolbar_button_onclick(event['data']);\n",
       "    }\n",
       "    function toolbar_mouse_event(event) {\n",
       "        return fig.toolbar_button_onmouseover(event['data']);\n",
       "    }\n",
       "\n",
       "    for(var toolbar_ind in mpl.toolbar_items) {\n",
       "        var name = mpl.toolbar_items[toolbar_ind][0];\n",
       "        var tooltip = mpl.toolbar_items[toolbar_ind][1];\n",
       "        var image = mpl.toolbar_items[toolbar_ind][2];\n",
       "        var method_name = mpl.toolbar_items[toolbar_ind][3];\n",
       "\n",
       "        if (!name) {\n",
       "            // put a spacer in here.\n",
       "            continue;\n",
       "        }\n",
       "        var button = $('<button/>');\n",
       "        button.addClass('ui-button ui-widget ui-state-default ui-corner-all ' +\n",
       "                        'ui-button-icon-only');\n",
       "        button.attr('role', 'button');\n",
       "        button.attr('aria-disabled', 'false');\n",
       "        button.click(method_name, toolbar_event);\n",
       "        button.mouseover(tooltip, toolbar_mouse_event);\n",
       "\n",
       "        var icon_img = $('<span/>');\n",
       "        icon_img.addClass('ui-button-icon-primary ui-icon');\n",
       "        icon_img.addClass(image);\n",
       "        icon_img.addClass('ui-corner-all');\n",
       "\n",
       "        var tooltip_span = $('<span/>');\n",
       "        tooltip_span.addClass('ui-button-text');\n",
       "        tooltip_span.html(tooltip);\n",
       "\n",
       "        button.append(icon_img);\n",
       "        button.append(tooltip_span);\n",
       "\n",
       "        nav_element.append(button);\n",
       "    }\n",
       "\n",
       "    var fmt_picker_span = $('<span/>');\n",
       "\n",
       "    var fmt_picker = $('<select/>');\n",
       "    fmt_picker.addClass('mpl-toolbar-option ui-widget ui-widget-content');\n",
       "    fmt_picker_span.append(fmt_picker);\n",
       "    nav_element.append(fmt_picker_span);\n",
       "    this.format_dropdown = fmt_picker[0];\n",
       "\n",
       "    for (var ind in mpl.extensions) {\n",
       "        var fmt = mpl.extensions[ind];\n",
       "        var option = $(\n",
       "            '<option/>', {selected: fmt === mpl.default_extension}).html(fmt);\n",
       "        fmt_picker.append(option);\n",
       "    }\n",
       "\n",
       "    // Add hover states to the ui-buttons\n",
       "    $( \".ui-button\" ).hover(\n",
       "        function() { $(this).addClass(\"ui-state-hover\");},\n",
       "        function() { $(this).removeClass(\"ui-state-hover\");}\n",
       "    );\n",
       "\n",
       "    var status_bar = $('<span class=\"mpl-message\"/>');\n",
       "    nav_element.append(status_bar);\n",
       "    this.message = status_bar[0];\n",
       "}\n",
       "\n",
       "mpl.figure.prototype.request_resize = function(x_pixels, y_pixels) {\n",
       "    // Request matplotlib to resize the figure. Matplotlib will then trigger a resize in the client,\n",
       "    // which will in turn request a refresh of the image.\n",
       "    this.send_message('resize', {'width': x_pixels, 'height': y_pixels});\n",
       "}\n",
       "\n",
       "mpl.figure.prototype.send_message = function(type, properties) {\n",
       "    properties['type'] = type;\n",
       "    properties['figure_id'] = this.id;\n",
       "    this.ws.send(JSON.stringify(properties));\n",
       "}\n",
       "\n",
       "mpl.figure.prototype.send_draw_message = function() {\n",
       "    if (!this.waiting) {\n",
       "        this.waiting = true;\n",
       "        this.ws.send(JSON.stringify({type: \"draw\", figure_id: this.id}));\n",
       "    }\n",
       "}\n",
       "\n",
       "\n",
       "mpl.figure.prototype.handle_save = function(fig, msg) {\n",
       "    var format_dropdown = fig.format_dropdown;\n",
       "    var format = format_dropdown.options[format_dropdown.selectedIndex].value;\n",
       "    fig.ondownload(fig, format);\n",
       "}\n",
       "\n",
       "\n",
       "mpl.figure.prototype.handle_resize = function(fig, msg) {\n",
       "    var size = msg['size'];\n",
       "    if (size[0] != fig.canvas.width || size[1] != fig.canvas.height) {\n",
       "        fig._resize_canvas(size[0], size[1]);\n",
       "        fig.send_message(\"refresh\", {});\n",
       "    };\n",
       "}\n",
       "\n",
       "mpl.figure.prototype.handle_rubberband = function(fig, msg) {\n",
       "    var x0 = msg['x0'] / mpl.ratio;\n",
       "    var y0 = (fig.canvas.height - msg['y0']) / mpl.ratio;\n",
       "    var x1 = msg['x1'] / mpl.ratio;\n",
       "    var y1 = (fig.canvas.height - msg['y1']) / mpl.ratio;\n",
       "    x0 = Math.floor(x0) + 0.5;\n",
       "    y0 = Math.floor(y0) + 0.5;\n",
       "    x1 = Math.floor(x1) + 0.5;\n",
       "    y1 = Math.floor(y1) + 0.5;\n",
       "    var min_x = Math.min(x0, x1);\n",
       "    var min_y = Math.min(y0, y1);\n",
       "    var width = Math.abs(x1 - x0);\n",
       "    var height = Math.abs(y1 - y0);\n",
       "\n",
       "    fig.rubberband_context.clearRect(\n",
       "        0, 0, fig.canvas.width, fig.canvas.height);\n",
       "\n",
       "    fig.rubberband_context.strokeRect(min_x, min_y, width, height);\n",
       "}\n",
       "\n",
       "mpl.figure.prototype.handle_figure_label = function(fig, msg) {\n",
       "    // Updates the figure title.\n",
       "    fig.header.textContent = msg['label'];\n",
       "}\n",
       "\n",
       "mpl.figure.prototype.handle_cursor = function(fig, msg) {\n",
       "    var cursor = msg['cursor'];\n",
       "    switch(cursor)\n",
       "    {\n",
       "    case 0:\n",
       "        cursor = 'pointer';\n",
       "        break;\n",
       "    case 1:\n",
       "        cursor = 'default';\n",
       "        break;\n",
       "    case 2:\n",
       "        cursor = 'crosshair';\n",
       "        break;\n",
       "    case 3:\n",
       "        cursor = 'move';\n",
       "        break;\n",
       "    }\n",
       "    fig.rubberband_canvas.style.cursor = cursor;\n",
       "}\n",
       "\n",
       "mpl.figure.prototype.handle_message = function(fig, msg) {\n",
       "    fig.message.textContent = msg['message'];\n",
       "}\n",
       "\n",
       "mpl.figure.prototype.handle_draw = function(fig, msg) {\n",
       "    // Request the server to send over a new figure.\n",
       "    fig.send_draw_message();\n",
       "}\n",
       "\n",
       "mpl.figure.prototype.handle_image_mode = function(fig, msg) {\n",
       "    fig.image_mode = msg['mode'];\n",
       "}\n",
       "\n",
       "mpl.figure.prototype.updated_canvas_event = function() {\n",
       "    // Called whenever the canvas gets updated.\n",
       "    this.send_message(\"ack\", {});\n",
       "}\n",
       "\n",
       "// A function to construct a web socket function for onmessage handling.\n",
       "// Called in the figure constructor.\n",
       "mpl.figure.prototype._make_on_message_function = function(fig) {\n",
       "    return function socket_on_message(evt) {\n",
       "        if (evt.data instanceof Blob) {\n",
       "            /* FIXME: We get \"Resource interpreted as Image but\n",
       "             * transferred with MIME type text/plain:\" errors on\n",
       "             * Chrome.  But how to set the MIME type?  It doesn't seem\n",
       "             * to be part of the websocket stream */\n",
       "            evt.data.type = \"image/png\";\n",
       "\n",
       "            /* Free the memory for the previous frames */\n",
       "            if (fig.imageObj.src) {\n",
       "                (window.URL || window.webkitURL).revokeObjectURL(\n",
       "                    fig.imageObj.src);\n",
       "            }\n",
       "\n",
       "            fig.imageObj.src = (window.URL || window.webkitURL).createObjectURL(\n",
       "                evt.data);\n",
       "            fig.updated_canvas_event();\n",
       "            fig.waiting = false;\n",
       "            return;\n",
       "        }\n",
       "        else if (typeof evt.data === 'string' && evt.data.slice(0, 21) == \"data:image/png;base64\") {\n",
       "            fig.imageObj.src = evt.data;\n",
       "            fig.updated_canvas_event();\n",
       "            fig.waiting = false;\n",
       "            return;\n",
       "        }\n",
       "\n",
       "        var msg = JSON.parse(evt.data);\n",
       "        var msg_type = msg['type'];\n",
       "\n",
       "        // Call the  \"handle_{type}\" callback, which takes\n",
       "        // the figure and JSON message as its only arguments.\n",
       "        try {\n",
       "            var callback = fig[\"handle_\" + msg_type];\n",
       "        } catch (e) {\n",
       "            console.log(\"No handler for the '\" + msg_type + \"' message type: \", msg);\n",
       "            return;\n",
       "        }\n",
       "\n",
       "        if (callback) {\n",
       "            try {\n",
       "                // console.log(\"Handling '\" + msg_type + \"' message: \", msg);\n",
       "                callback(fig, msg);\n",
       "            } catch (e) {\n",
       "                console.log(\"Exception inside the 'handler_\" + msg_type + \"' callback:\", e, e.stack, msg);\n",
       "            }\n",
       "        }\n",
       "    };\n",
       "}\n",
       "\n",
       "// from http://stackoverflow.com/questions/1114465/getting-mouse-location-in-canvas\n",
       "mpl.findpos = function(e) {\n",
       "    //this section is from http://www.quirksmode.org/js/events_properties.html\n",
       "    var targ;\n",
       "    if (!e)\n",
       "        e = window.event;\n",
       "    if (e.target)\n",
       "        targ = e.target;\n",
       "    else if (e.srcElement)\n",
       "        targ = e.srcElement;\n",
       "    if (targ.nodeType == 3) // defeat Safari bug\n",
       "        targ = targ.parentNode;\n",
       "\n",
       "    // jQuery normalizes the pageX and pageY\n",
       "    // pageX,Y are the mouse positions relative to the document\n",
       "    // offset() returns the position of the element relative to the document\n",
       "    var x = e.pageX - $(targ).offset().left;\n",
       "    var y = e.pageY - $(targ).offset().top;\n",
       "\n",
       "    return {\"x\": x, \"y\": y};\n",
       "};\n",
       "\n",
       "/*\n",
       " * return a copy of an object with only non-object keys\n",
       " * we need this to avoid circular references\n",
       " * http://stackoverflow.com/a/24161582/3208463\n",
       " */\n",
       "function simpleKeys (original) {\n",
       "  return Object.keys(original).reduce(function (obj, key) {\n",
       "    if (typeof original[key] !== 'object')\n",
       "        obj[key] = original[key]\n",
       "    return obj;\n",
       "  }, {});\n",
       "}\n",
       "\n",
       "mpl.figure.prototype.mouse_event = function(event, name) {\n",
       "    var canvas_pos = mpl.findpos(event)\n",
       "\n",
       "    if (name === 'button_press')\n",
       "    {\n",
       "        this.canvas.focus();\n",
       "        this.canvas_div.focus();\n",
       "    }\n",
       "\n",
       "    var x = canvas_pos.x * mpl.ratio;\n",
       "    var y = canvas_pos.y * mpl.ratio;\n",
       "\n",
       "    this.send_message(name, {x: x, y: y, button: event.button,\n",
       "                             step: event.step,\n",
       "                             guiEvent: simpleKeys(event)});\n",
       "\n",
       "    /* This prevents the web browser from automatically changing to\n",
       "     * the text insertion cursor when the button is pressed.  We want\n",
       "     * to control all of the cursor setting manually through the\n",
       "     * 'cursor' event from matplotlib */\n",
       "    event.preventDefault();\n",
       "    return false;\n",
       "}\n",
       "\n",
       "mpl.figure.prototype._key_event_extra = function(event, name) {\n",
       "    // Handle any extra behaviour associated with a key event\n",
       "}\n",
       "\n",
       "mpl.figure.prototype.key_event = function(event, name) {\n",
       "\n",
       "    // Prevent repeat events\n",
       "    if (name == 'key_press')\n",
       "    {\n",
       "        if (event.which === this._key)\n",
       "            return;\n",
       "        else\n",
       "            this._key = event.which;\n",
       "    }\n",
       "    if (name == 'key_release')\n",
       "        this._key = null;\n",
       "\n",
       "    var value = '';\n",
       "    if (event.ctrlKey && event.which != 17)\n",
       "        value += \"ctrl+\";\n",
       "    if (event.altKey && event.which != 18)\n",
       "        value += \"alt+\";\n",
       "    if (event.shiftKey && event.which != 16)\n",
       "        value += \"shift+\";\n",
       "\n",
       "    value += 'k';\n",
       "    value += event.which.toString();\n",
       "\n",
       "    this._key_event_extra(event, name);\n",
       "\n",
       "    this.send_message(name, {key: value,\n",
       "                             guiEvent: simpleKeys(event)});\n",
       "    return false;\n",
       "}\n",
       "\n",
       "mpl.figure.prototype.toolbar_button_onclick = function(name) {\n",
       "    if (name == 'download') {\n",
       "        this.handle_save(this, null);\n",
       "    } else {\n",
       "        this.send_message(\"toolbar_button\", {name: name});\n",
       "    }\n",
       "};\n",
       "\n",
       "mpl.figure.prototype.toolbar_button_onmouseover = function(tooltip) {\n",
       "    this.message.textContent = tooltip;\n",
       "};\n",
       "mpl.toolbar_items = [[\"Home\", \"Reset original view\", \"fa fa-home icon-home\", \"home\"], [\"Back\", \"Back to previous view\", \"fa fa-arrow-left icon-arrow-left\", \"back\"], [\"Forward\", \"Forward to next view\", \"fa fa-arrow-right icon-arrow-right\", \"forward\"], [\"\", \"\", \"\", \"\"], [\"Pan\", \"Pan axes with left mouse, zoom with right\", \"fa fa-arrows icon-move\", \"pan\"], [\"Zoom\", \"Zoom to rectangle\", \"fa fa-square-o icon-check-empty\", \"zoom\"], [\"\", \"\", \"\", \"\"], [\"Download\", \"Download plot\", \"fa fa-floppy-o icon-save\", \"download\"]];\n",
       "\n",
       "mpl.extensions = [\"eps\", \"jpeg\", \"pdf\", \"png\", \"ps\", \"raw\", \"svg\", \"tif\"];\n",
       "\n",
       "mpl.default_extension = \"png\";var comm_websocket_adapter = function(comm) {\n",
       "    // Create a \"websocket\"-like object which calls the given IPython comm\n",
       "    // object with the appropriate methods. Currently this is a non binary\n",
       "    // socket, so there is still some room for performance tuning.\n",
       "    var ws = {};\n",
       "\n",
       "    ws.close = function() {\n",
       "        comm.close()\n",
       "    };\n",
       "    ws.send = function(m) {\n",
       "        //console.log('sending', m);\n",
       "        comm.send(m);\n",
       "    };\n",
       "    // Register the callback with on_msg.\n",
       "    comm.on_msg(function(msg) {\n",
       "        //console.log('receiving', msg['content']['data'], msg);\n",
       "        // Pass the mpl event to the overridden (by mpl) onmessage function.\n",
       "        ws.onmessage(msg['content']['data'])\n",
       "    });\n",
       "    return ws;\n",
       "}\n",
       "\n",
       "mpl.mpl_figure_comm = function(comm, msg) {\n",
       "    // This is the function which gets called when the mpl process\n",
       "    // starts-up an IPython Comm through the \"matplotlib\" channel.\n",
       "\n",
       "    var id = msg.content.data.id;\n",
       "    // Get hold of the div created by the display call when the Comm\n",
       "    // socket was opened in Python.\n",
       "    var element = $(\"#\" + id);\n",
       "    var ws_proxy = comm_websocket_adapter(comm)\n",
       "\n",
       "    function ondownload(figure, format) {\n",
       "        window.open(figure.imageObj.src);\n",
       "    }\n",
       "\n",
       "    var fig = new mpl.figure(id, ws_proxy,\n",
       "                           ondownload,\n",
       "                           element.get(0));\n",
       "\n",
       "    // Call onopen now - mpl needs it, as it is assuming we've passed it a real\n",
       "    // web socket which is closed, not our websocket->open comm proxy.\n",
       "    ws_proxy.onopen();\n",
       "\n",
       "    fig.parent_element = element.get(0);\n",
       "    fig.cell_info = mpl.find_output_cell(\"<div id='\" + id + \"'></div>\");\n",
       "    if (!fig.cell_info) {\n",
       "        console.error(\"Failed to find cell for figure\", id, fig);\n",
       "        return;\n",
       "    }\n",
       "\n",
       "    var output_index = fig.cell_info[2]\n",
       "    var cell = fig.cell_info[0];\n",
       "\n",
       "};\n",
       "\n",
       "mpl.figure.prototype.handle_close = function(fig, msg) {\n",
       "    var width = fig.canvas.width/mpl.ratio\n",
       "    fig.root.unbind('remove')\n",
       "\n",
       "    // Update the output cell to use the data from the current canvas.\n",
       "    fig.push_to_output();\n",
       "    var dataURL = fig.canvas.toDataURL();\n",
       "    // Re-enable the keyboard manager in IPython - without this line, in FF,\n",
       "    // the notebook keyboard shortcuts fail.\n",
       "    IPython.keyboard_manager.enable()\n",
       "    $(fig.parent_element).html('<img src=\"' + dataURL + '\" width=\"' + width + '\">');\n",
       "    fig.close_ws(fig, msg);\n",
       "}\n",
       "\n",
       "mpl.figure.prototype.close_ws = function(fig, msg){\n",
       "    fig.send_message('closing', msg);\n",
       "    // fig.ws.close()\n",
       "}\n",
       "\n",
       "mpl.figure.prototype.push_to_output = function(remove_interactive) {\n",
       "    // Turn the data on the canvas into data in the output cell.\n",
       "    var width = this.canvas.width/mpl.ratio\n",
       "    var dataURL = this.canvas.toDataURL();\n",
       "    this.cell_info[1]['text/html'] = '<img src=\"' + dataURL + '\" width=\"' + width + '\">';\n",
       "}\n",
       "\n",
       "mpl.figure.prototype.updated_canvas_event = function() {\n",
       "    // Tell IPython that the notebook contents must change.\n",
       "    IPython.notebook.set_dirty(true);\n",
       "    this.send_message(\"ack\", {});\n",
       "    var fig = this;\n",
       "    // Wait a second, then push the new image to the DOM so\n",
       "    // that it is saved nicely (might be nice to debounce this).\n",
       "    setTimeout(function () { fig.push_to_output() }, 1000);\n",
       "}\n",
       "\n",
       "mpl.figure.prototype._init_toolbar = function() {\n",
       "    var fig = this;\n",
       "\n",
       "    var nav_element = $('<div/>');\n",
       "    nav_element.attr('style', 'width: 100%');\n",
       "    this.root.append(nav_element);\n",
       "\n",
       "    // Define a callback function for later on.\n",
       "    function toolbar_event(event) {\n",
       "        return fig.toolbar_button_onclick(event['data']);\n",
       "    }\n",
       "    function toolbar_mouse_event(event) {\n",
       "        return fig.toolbar_button_onmouseover(event['data']);\n",
       "    }\n",
       "\n",
       "    for(var toolbar_ind in mpl.toolbar_items){\n",
       "        var name = mpl.toolbar_items[toolbar_ind][0];\n",
       "        var tooltip = mpl.toolbar_items[toolbar_ind][1];\n",
       "        var image = mpl.toolbar_items[toolbar_ind][2];\n",
       "        var method_name = mpl.toolbar_items[toolbar_ind][3];\n",
       "\n",
       "        if (!name) { continue; };\n",
       "\n",
       "        var button = $('<button class=\"btn btn-default\" href=\"#\" title=\"' + name + '\"><i class=\"fa ' + image + ' fa-lg\"></i></button>');\n",
       "        button.click(method_name, toolbar_event);\n",
       "        button.mouseover(tooltip, toolbar_mouse_event);\n",
       "        nav_element.append(button);\n",
       "    }\n",
       "\n",
       "    // Add the status bar.\n",
       "    var status_bar = $('<span class=\"mpl-message\" style=\"text-align:right; float: right;\"/>');\n",
       "    nav_element.append(status_bar);\n",
       "    this.message = status_bar[0];\n",
       "\n",
       "    // Add the close button to the window.\n",
       "    var buttongrp = $('<div class=\"btn-group inline pull-right\"></div>');\n",
       "    var button = $('<button class=\"btn btn-mini btn-primary\" href=\"#\" title=\"Stop Interaction\"><i class=\"fa fa-power-off icon-remove icon-large\"></i></button>');\n",
       "    button.click(function (evt) { fig.handle_close(fig, {}); } );\n",
       "    button.mouseover('Stop Interaction', toolbar_mouse_event);\n",
       "    buttongrp.append(button);\n",
       "    var titlebar = this.root.find($('.ui-dialog-titlebar'));\n",
       "    titlebar.prepend(buttongrp);\n",
       "}\n",
       "\n",
       "mpl.figure.prototype._root_extra_style = function(el){\n",
       "    var fig = this\n",
       "    el.on(\"remove\", function(){\n",
       "\tfig.close_ws(fig, {});\n",
       "    });\n",
       "}\n",
       "\n",
       "mpl.figure.prototype._canvas_extra_style = function(el){\n",
       "    // this is important to make the div 'focusable\n",
       "    el.attr('tabindex', 0)\n",
       "    // reach out to IPython and tell the keyboard manager to turn it's self\n",
       "    // off when our div gets focus\n",
       "\n",
       "    // location in version 3\n",
       "    if (IPython.notebook.keyboard_manager) {\n",
       "        IPython.notebook.keyboard_manager.register_events(el);\n",
       "    }\n",
       "    else {\n",
       "        // location in version 2\n",
       "        IPython.keyboard_manager.register_events(el);\n",
       "    }\n",
       "\n",
       "}\n",
       "\n",
       "mpl.figure.prototype._key_event_extra = function(event, name) {\n",
       "    var manager = IPython.notebook.keyboard_manager;\n",
       "    if (!manager)\n",
       "        manager = IPython.keyboard_manager;\n",
       "\n",
       "    // Check for shift+enter\n",
       "    if (event.shiftKey && event.which == 13) {\n",
       "        this.canvas_div.blur();\n",
       "        event.shiftKey = false;\n",
       "        // Send a \"J\" for go to next cell\n",
       "        event.which = 74;\n",
       "        event.keyCode = 74;\n",
       "        manager.command_mode();\n",
       "        manager.handle_keydown(event);\n",
       "    }\n",
       "}\n",
       "\n",
       "mpl.figure.prototype.handle_save = function(fig, msg) {\n",
       "    fig.ondownload(fig, null);\n",
       "}\n",
       "\n",
       "\n",
       "mpl.find_output_cell = function(html_output) {\n",
       "    // Return the cell and output element which can be found *uniquely* in the notebook.\n",
       "    // Note - this is a bit hacky, but it is done because the \"notebook_saving.Notebook\"\n",
       "    // IPython event is triggered only after the cells have been serialised, which for\n",
       "    // our purposes (turning an active figure into a static one), is too late.\n",
       "    var cells = IPython.notebook.get_cells();\n",
       "    var ncells = cells.length;\n",
       "    for (var i=0; i<ncells; i++) {\n",
       "        var cell = cells[i];\n",
       "        if (cell.cell_type === 'code'){\n",
       "            for (var j=0; j<cell.output_area.outputs.length; j++) {\n",
       "                var data = cell.output_area.outputs[j];\n",
       "                if (data.data) {\n",
       "                    // IPython >= 3 moved mimebundle to data attribute of output\n",
       "                    data = data.data;\n",
       "                }\n",
       "                if (data['text/html'] == html_output) {\n",
       "                    return [cell, data, j];\n",
       "                }\n",
       "            }\n",
       "        }\n",
       "    }\n",
       "}\n",
       "\n",
       "// Register the function which deals with the matplotlib target/channel.\n",
       "// The kernel may be null if the page has been refreshed.\n",
       "if (IPython.notebook.kernel != null) {\n",
       "    IPython.notebook.kernel.comm_manager.register_target('matplotlib', mpl.mpl_figure_comm);\n",
       "}\n"
      ],
      "text/plain": [
       "<IPython.core.display.Javascript object>"
      ]
     },
     "metadata": {},
     "output_type": "display_data"
    },
    {
     "data": {
      "text/html": [
       "<img src=\"data:image/png;base64,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\" width=\"640\">"
      ],
      "text/plain": [
       "<IPython.core.display.HTML object>"
      ]
     },
     "metadata": {},
     "output_type": "display_data"
    },
    {
     "data": {
      "text/plain": [
       "<matplotlib.axes._subplots.AxesSubplot at 0x25eaa730160>"
      ]
     },
     "execution_count": 60,
     "metadata": {},
     "output_type": "execute_result"
    }
   ],
   "source": [
    "%matplotlib notebook\n",
    "data1['adjClose'].plot()\n",
    "data1['forecasted'].plot()"
   ]
  },
  {
   "cell_type": "code",
   "execution_count": 61,
   "metadata": {},
   "outputs": [
    {
     "data": {
      "text/html": [
       "<div>\n",
       "<style scoped>\n",
       "    .dataframe tbody tr th:only-of-type {\n",
       "        vertical-align: middle;\n",
       "    }\n",
       "\n",
       "    .dataframe tbody tr th {\n",
       "        vertical-align: top;\n",
       "    }\n",
       "\n",
       "    .dataframe thead th {\n",
       "        text-align: right;\n",
       "    }\n",
       "</style>\n",
       "<table border=\"1\" class=\"dataframe\">\n",
       "  <thead>\n",
       "    <tr style=\"text-align: right;\">\n",
       "      <th></th>\n",
       "      <th>adjOpen</th>\n",
       "      <th>adjClose</th>\n",
       "      <th>adjHigh</th>\n",
       "      <th>adjLow</th>\n",
       "      <th>adjVolume</th>\n",
       "      <th>newclose</th>\n",
       "      <th>forecasted</th>\n",
       "    </tr>\n",
       "    <tr>\n",
       "      <th>date</th>\n",
       "      <th></th>\n",
       "      <th></th>\n",
       "      <th></th>\n",
       "      <th></th>\n",
       "      <th></th>\n",
       "      <th></th>\n",
       "      <th></th>\n",
       "    </tr>\n",
       "  </thead>\n",
       "  <tbody>\n",
       "    <tr>\n",
       "      <th>2020-08-14 00:00:00+00:00</th>\n",
       "      <td>208.76</td>\n",
       "      <td>208.9</td>\n",
       "      <td>209.59</td>\n",
       "      <td>207.51</td>\n",
       "      <td>17958936.0</td>\n",
       "      <td>NaN</td>\n",
       "      <td>NaN</td>\n",
       "    </tr>\n",
       "    <tr>\n",
       "      <th>2020-08-17 00:00:00+00:00</th>\n",
       "      <td>NaN</td>\n",
       "      <td>NaN</td>\n",
       "      <td>NaN</td>\n",
       "      <td>NaN</td>\n",
       "      <td>NaN</td>\n",
       "      <td>NaN</td>\n",
       "      <td>217.941418</td>\n",
       "    </tr>\n",
       "    <tr>\n",
       "      <th>2020-08-18 00:00:00+00:00</th>\n",
       "      <td>NaN</td>\n",
       "      <td>NaN</td>\n",
       "      <td>NaN</td>\n",
       "      <td>NaN</td>\n",
       "      <td>NaN</td>\n",
       "      <td>NaN</td>\n",
       "      <td>214.922380</td>\n",
       "    </tr>\n",
       "    <tr>\n",
       "      <th>2020-08-19 00:00:00+00:00</th>\n",
       "      <td>NaN</td>\n",
       "      <td>NaN</td>\n",
       "      <td>NaN</td>\n",
       "      <td>NaN</td>\n",
       "      <td>NaN</td>\n",
       "      <td>NaN</td>\n",
       "      <td>217.711833</td>\n",
       "    </tr>\n",
       "    <tr>\n",
       "      <th>2020-08-20 00:00:00+00:00</th>\n",
       "      <td>NaN</td>\n",
       "      <td>NaN</td>\n",
       "      <td>NaN</td>\n",
       "      <td>NaN</td>\n",
       "      <td>NaN</td>\n",
       "      <td>NaN</td>\n",
       "      <td>213.033044</td>\n",
       "    </tr>\n",
       "    <tr>\n",
       "      <th>2020-08-21 00:00:00+00:00</th>\n",
       "      <td>NaN</td>\n",
       "      <td>NaN</td>\n",
       "      <td>NaN</td>\n",
       "      <td>NaN</td>\n",
       "      <td>NaN</td>\n",
       "      <td>NaN</td>\n",
       "      <td>206.234564</td>\n",
       "    </tr>\n",
       "    <tr>\n",
       "      <th>2020-08-24 00:00:00+00:00</th>\n",
       "      <td>NaN</td>\n",
       "      <td>NaN</td>\n",
       "      <td>NaN</td>\n",
       "      <td>NaN</td>\n",
       "      <td>NaN</td>\n",
       "      <td>NaN</td>\n",
       "      <td>209.252692</td>\n",
       "    </tr>\n",
       "    <tr>\n",
       "      <th>2020-08-25 00:00:00+00:00</th>\n",
       "      <td>NaN</td>\n",
       "      <td>NaN</td>\n",
       "      <td>NaN</td>\n",
       "      <td>NaN</td>\n",
       "      <td>NaN</td>\n",
       "      <td>NaN</td>\n",
       "      <td>208.677015</td>\n",
       "    </tr>\n",
       "    <tr>\n",
       "      <th>2020-08-26 00:00:00+00:00</th>\n",
       "      <td>NaN</td>\n",
       "      <td>NaN</td>\n",
       "      <td>NaN</td>\n",
       "      <td>NaN</td>\n",
       "      <td>NaN</td>\n",
       "      <td>NaN</td>\n",
       "      <td>210.007847</td>\n",
       "    </tr>\n",
       "    <tr>\n",
       "      <th>2020-08-27 00:00:00+00:00</th>\n",
       "      <td>NaN</td>\n",
       "      <td>NaN</td>\n",
       "      <td>NaN</td>\n",
       "      <td>NaN</td>\n",
       "      <td>NaN</td>\n",
       "      <td>NaN</td>\n",
       "      <td>209.385117</td>\n",
       "    </tr>\n",
       "    <tr>\n",
       "      <th>2020-08-28 00:00:00+00:00</th>\n",
       "      <td>NaN</td>\n",
       "      <td>NaN</td>\n",
       "      <td>NaN</td>\n",
       "      <td>NaN</td>\n",
       "      <td>NaN</td>\n",
       "      <td>NaN</td>\n",
       "      <td>206.070234</td>\n",
       "    </tr>\n",
       "    <tr>\n",
       "      <th>2020-08-31 00:00:00+00:00</th>\n",
       "      <td>NaN</td>\n",
       "      <td>NaN</td>\n",
       "      <td>NaN</td>\n",
       "      <td>NaN</td>\n",
       "      <td>NaN</td>\n",
       "      <td>NaN</td>\n",
       "      <td>223.623749</td>\n",
       "    </tr>\n",
       "    <tr>\n",
       "      <th>2020-09-01 00:00:00+00:00</th>\n",
       "      <td>NaN</td>\n",
       "      <td>NaN</td>\n",
       "      <td>NaN</td>\n",
       "      <td>NaN</td>\n",
       "      <td>NaN</td>\n",
       "      <td>NaN</td>\n",
       "      <td>217.195694</td>\n",
       "    </tr>\n",
       "    <tr>\n",
       "      <th>2020-09-02 00:00:00+00:00</th>\n",
       "      <td>NaN</td>\n",
       "      <td>NaN</td>\n",
       "      <td>NaN</td>\n",
       "      <td>NaN</td>\n",
       "      <td>NaN</td>\n",
       "      <td>NaN</td>\n",
       "      <td>217.822517</td>\n",
       "    </tr>\n",
       "    <tr>\n",
       "      <th>2020-09-03 00:00:00+00:00</th>\n",
       "      <td>NaN</td>\n",
       "      <td>NaN</td>\n",
       "      <td>NaN</td>\n",
       "      <td>NaN</td>\n",
       "      <td>NaN</td>\n",
       "      <td>NaN</td>\n",
       "      <td>222.237334</td>\n",
       "    </tr>\n",
       "    <tr>\n",
       "      <th>2020-09-04 00:00:00+00:00</th>\n",
       "      <td>NaN</td>\n",
       "      <td>NaN</td>\n",
       "      <td>NaN</td>\n",
       "      <td>NaN</td>\n",
       "      <td>NaN</td>\n",
       "      <td>NaN</td>\n",
       "      <td>218.277020</td>\n",
       "    </tr>\n",
       "    <tr>\n",
       "      <th>2020-09-07 00:00:00+00:00</th>\n",
       "      <td>NaN</td>\n",
       "      <td>NaN</td>\n",
       "      <td>NaN</td>\n",
       "      <td>NaN</td>\n",
       "      <td>NaN</td>\n",
       "      <td>NaN</td>\n",
       "      <td>213.037021</td>\n",
       "    </tr>\n",
       "    <tr>\n",
       "      <th>2020-09-08 00:00:00+00:00</th>\n",
       "      <td>NaN</td>\n",
       "      <td>NaN</td>\n",
       "      <td>NaN</td>\n",
       "      <td>NaN</td>\n",
       "      <td>NaN</td>\n",
       "      <td>NaN</td>\n",
       "      <td>209.795433</td>\n",
       "    </tr>\n",
       "    <tr>\n",
       "      <th>2020-09-09 00:00:00+00:00</th>\n",
       "      <td>NaN</td>\n",
       "      <td>NaN</td>\n",
       "      <td>NaN</td>\n",
       "      <td>NaN</td>\n",
       "      <td>NaN</td>\n",
       "      <td>NaN</td>\n",
       "      <td>216.449879</td>\n",
       "    </tr>\n",
       "    <tr>\n",
       "      <th>2020-09-10 00:00:00+00:00</th>\n",
       "      <td>NaN</td>\n",
       "      <td>NaN</td>\n",
       "      <td>NaN</td>\n",
       "      <td>NaN</td>\n",
       "      <td>NaN</td>\n",
       "      <td>NaN</td>\n",
       "      <td>216.183545</td>\n",
       "    </tr>\n",
       "    <tr>\n",
       "      <th>2020-09-11 00:00:00+00:00</th>\n",
       "      <td>NaN</td>\n",
       "      <td>NaN</td>\n",
       "      <td>NaN</td>\n",
       "      <td>NaN</td>\n",
       "      <td>NaN</td>\n",
       "      <td>NaN</td>\n",
       "      <td>214.148953</td>\n",
       "    </tr>\n",
       "  </tbody>\n",
       "</table>\n",
       "</div>"
      ],
      "text/plain": [
       "                           adjOpen  adjClose  adjHigh  adjLow   adjVolume  \\\n",
       "date                                                                        \n",
       "2020-08-14 00:00:00+00:00   208.76     208.9   209.59  207.51  17958936.0   \n",
       "2020-08-17 00:00:00+00:00      NaN       NaN      NaN     NaN         NaN   \n",
       "2020-08-18 00:00:00+00:00      NaN       NaN      NaN     NaN         NaN   \n",
       "2020-08-19 00:00:00+00:00      NaN       NaN      NaN     NaN         NaN   \n",
       "2020-08-20 00:00:00+00:00      NaN       NaN      NaN     NaN         NaN   \n",
       "2020-08-21 00:00:00+00:00      NaN       NaN      NaN     NaN         NaN   \n",
       "2020-08-24 00:00:00+00:00      NaN       NaN      NaN     NaN         NaN   \n",
       "2020-08-25 00:00:00+00:00      NaN       NaN      NaN     NaN         NaN   \n",
       "2020-08-26 00:00:00+00:00      NaN       NaN      NaN     NaN         NaN   \n",
       "2020-08-27 00:00:00+00:00      NaN       NaN      NaN     NaN         NaN   \n",
       "2020-08-28 00:00:00+00:00      NaN       NaN      NaN     NaN         NaN   \n",
       "2020-08-31 00:00:00+00:00      NaN       NaN      NaN     NaN         NaN   \n",
       "2020-09-01 00:00:00+00:00      NaN       NaN      NaN     NaN         NaN   \n",
       "2020-09-02 00:00:00+00:00      NaN       NaN      NaN     NaN         NaN   \n",
       "2020-09-03 00:00:00+00:00      NaN       NaN      NaN     NaN         NaN   \n",
       "2020-09-04 00:00:00+00:00      NaN       NaN      NaN     NaN         NaN   \n",
       "2020-09-07 00:00:00+00:00      NaN       NaN      NaN     NaN         NaN   \n",
       "2020-09-08 00:00:00+00:00      NaN       NaN      NaN     NaN         NaN   \n",
       "2020-09-09 00:00:00+00:00      NaN       NaN      NaN     NaN         NaN   \n",
       "2020-09-10 00:00:00+00:00      NaN       NaN      NaN     NaN         NaN   \n",
       "2020-09-11 00:00:00+00:00      NaN       NaN      NaN     NaN         NaN   \n",
       "\n",
       "                           newclose  forecasted  \n",
       "date                                             \n",
       "2020-08-14 00:00:00+00:00       NaN         NaN  \n",
       "2020-08-17 00:00:00+00:00       NaN  217.941418  \n",
       "2020-08-18 00:00:00+00:00       NaN  214.922380  \n",
       "2020-08-19 00:00:00+00:00       NaN  217.711833  \n",
       "2020-08-20 00:00:00+00:00       NaN  213.033044  \n",
       "2020-08-21 00:00:00+00:00       NaN  206.234564  \n",
       "2020-08-24 00:00:00+00:00       NaN  209.252692  \n",
       "2020-08-25 00:00:00+00:00       NaN  208.677015  \n",
       "2020-08-26 00:00:00+00:00       NaN  210.007847  \n",
       "2020-08-27 00:00:00+00:00       NaN  209.385117  \n",
       "2020-08-28 00:00:00+00:00       NaN  206.070234  \n",
       "2020-08-31 00:00:00+00:00       NaN  223.623749  \n",
       "2020-09-01 00:00:00+00:00       NaN  217.195694  \n",
       "2020-09-02 00:00:00+00:00       NaN  217.822517  \n",
       "2020-09-03 00:00:00+00:00       NaN  222.237334  \n",
       "2020-09-04 00:00:00+00:00       NaN  218.277020  \n",
       "2020-09-07 00:00:00+00:00       NaN  213.037021  \n",
       "2020-09-08 00:00:00+00:00       NaN  209.795433  \n",
       "2020-09-09 00:00:00+00:00       NaN  216.449879  \n",
       "2020-09-10 00:00:00+00:00       NaN  216.183545  \n",
       "2020-09-11 00:00:00+00:00       NaN  214.148953  "
      ]
     },
     "execution_count": 61,
     "metadata": {},
     "output_type": "execute_result"
    }
   ],
   "source": [
    "data1.tail(21)"
   ]
  },
  {
   "cell_type": "code",
   "execution_count": 62,
   "metadata": {},
   "outputs": [],
   "source": [
    "#keins nearest (KNN)"
   ]
  },
  {
   "cell_type": "code",
   "execution_count": null,
   "metadata": {},
   "outputs": [],
   "source": []
  }
 ],
 "metadata": {
  "kernelspec": {
   "display_name": "Python 3",
   "language": "python",
   "name": "python3"
  },
  "language_info": {
   "codemirror_mode": {
    "name": "ipython",
    "version": 3
   },
   "file_extension": ".py",
   "mimetype": "text/x-python",
   "name": "python",
   "nbconvert_exporter": "python",
   "pygments_lexer": "ipython3",
   "version": "3.7.3"
  }
 },
 "nbformat": 4,
 "nbformat_minor": 2
}
