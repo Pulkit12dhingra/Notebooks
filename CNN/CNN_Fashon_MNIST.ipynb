{
  "nbformat": 4,
  "nbformat_minor": 0,
  "metadata": {
    "colab": {
      "name": "CNN Fashon_MNIST",
      "provenance": []
    },
    "kernelspec": {
      "name": "python3",
      "display_name": "Python 3"
    }
  },
  "cells": [
    {
      "cell_type": "code",
      "metadata": {
        "id": "n_1RDEgDWurg",
        "colab_type": "code",
        "colab": {}
      },
      "source": [
        "import numpy as np\n",
        "import matplotlib.pyplot as plt\n",
        "from tensorflow.keras.layers import Input, Conv2D, Dense, Flatten, Dropout\n",
        "from tensorflow.keras.models import Model\n",
        "import tensorflow as tf"
      ],
      "execution_count": 3,
      "outputs": []
    },
    {
      "cell_type": "code",
      "metadata": {
        "id": "VYaf9xxXBvTm",
        "colab_type": "code",
        "colab": {
          "base_uri": "https://localhost:8080/",
          "height": 168
        },
        "outputId": "6e0c6ee0-ccbc-4bfb-92a1-31d97779957b"
      },
      "source": [
        "fashion_mnist = tf.keras.datasets.fashion_mnist\n",
        "\n",
        "(x_train, y_train), (x_test, y_test) = fashion_mnist.load_data()\n",
        "x_train, x_test = x_train / 255.0, x_test / 255.0\n",
        "print(\"x_train.shape:\", x_train.shape)"
      ],
      "execution_count": 4,
      "outputs": [
        {
          "output_type": "stream",
          "text": [
            "Downloading data from https://storage.googleapis.com/tensorflow/tf-keras-datasets/train-labels-idx1-ubyte.gz\n",
            "32768/29515 [=================================] - 0s 0us/step\n",
            "Downloading data from https://storage.googleapis.com/tensorflow/tf-keras-datasets/train-images-idx3-ubyte.gz\n",
            "26427392/26421880 [==============================] - 0s 0us/step\n",
            "Downloading data from https://storage.googleapis.com/tensorflow/tf-keras-datasets/t10k-labels-idx1-ubyte.gz\n",
            "8192/5148 [===============================================] - 0s 0us/step\n",
            "Downloading data from https://storage.googleapis.com/tensorflow/tf-keras-datasets/t10k-images-idx3-ubyte.gz\n",
            "4423680/4422102 [==============================] - 0s 0us/step\n",
            "x_train.shape: (60000, 28, 28)\n"
          ],
          "name": "stdout"
        }
      ]
    },
    {
      "cell_type": "code",
      "metadata": {
        "id": "eB7eW5C_BypL",
        "colab_type": "code",
        "colab": {
          "base_uri": "https://localhost:8080/",
          "height": 34
        },
        "outputId": "5dd3f306-fb79-4170-a994-b9c7105f85d5"
      },
      "source": [
        "x_train = np.expand_dims(x_train, -1)\n",
        "x_test = np.expand_dims(x_test, -1)\n",
        "print(x_train.shape)"
      ],
      "execution_count": 5,
      "outputs": [
        {
          "output_type": "stream",
          "text": [
            "(60000, 28, 28, 1)\n"
          ],
          "name": "stdout"
        }
      ]
    },
    {
      "cell_type": "code",
      "metadata": {
        "id": "kZLr1ndFB9Gu",
        "colab_type": "code",
        "colab": {}
      },
      "source": [
        "K = len(set(y_train))# number of classes"
      ],
      "execution_count": 6,
      "outputs": []
    },
    {
      "cell_type": "code",
      "metadata": {
        "id": "HP4xhOE5CFSc",
        "colab_type": "code",
        "colab": {}
      },
      "source": [
        "i = Input(shape=x_train[0].shape)\n",
        "x = Conv2D(32, (3, 3), strides=2, activation='relu')(i)\n",
        "x = Conv2D(64, (3, 3), strides=2, activation='relu')(x)\n",
        "x = Conv2D(128, (3, 3), strides=2, activation='relu')(x)\n",
        "x = Flatten()(x)\n",
        "#x = Dropout(0.2)(x)\n",
        "x = Dense(512, activation='relu')(x)\n",
        "#x = Dropout(0.2)(x)\n",
        "x = Dense(K, activation='softmax')(x)\n",
        "\n",
        "model = Model(i, x)"
      ],
      "execution_count": 7,
      "outputs": []
    },
    {
      "cell_type": "code",
      "metadata": {
        "id": "ROz3qJnFCH6B",
        "colab_type": "code",
        "colab": {
          "base_uri": "https://localhost:8080/",
          "height": 521
        },
        "outputId": "637f5ddf-37a8-4d1b-8831-86014a608904"
      },
      "source": [
        "model.compile(optimizer='adam',\n",
        "              loss='sparse_categorical_crossentropy',\n",
        "              metrics=['accuracy'])\n",
        "r = model.fit(x_train, y_train, validation_data=(x_test, y_test), epochs=15)"
      ],
      "execution_count": 8,
      "outputs": [
        {
          "output_type": "stream",
          "text": [
            "Epoch 1/15\n",
            "1875/1875 [==============================] - 27s 14ms/step - loss: 0.5243 - accuracy: 0.8061 - val_loss: 0.4123 - val_accuracy: 0.8456\n",
            "Epoch 2/15\n",
            "1875/1875 [==============================] - 27s 14ms/step - loss: 0.3616 - accuracy: 0.8642 - val_loss: 0.3456 - val_accuracy: 0.8751\n",
            "Epoch 3/15\n",
            "1875/1875 [==============================] - 27s 14ms/step - loss: 0.3127 - accuracy: 0.8827 - val_loss: 0.3379 - val_accuracy: 0.8754\n",
            "Epoch 4/15\n",
            "1875/1875 [==============================] - 27s 14ms/step - loss: 0.2810 - accuracy: 0.8935 - val_loss: 0.3214 - val_accuracy: 0.8820\n",
            "Epoch 5/15\n",
            "1875/1875 [==============================] - 27s 14ms/step - loss: 0.2555 - accuracy: 0.9044 - val_loss: 0.3258 - val_accuracy: 0.8812\n",
            "Epoch 6/15\n",
            "1875/1875 [==============================] - 27s 14ms/step - loss: 0.2323 - accuracy: 0.9119 - val_loss: 0.3189 - val_accuracy: 0.8867\n",
            "Epoch 7/15\n",
            "1875/1875 [==============================] - 27s 14ms/step - loss: 0.2175 - accuracy: 0.9168 - val_loss: 0.2991 - val_accuracy: 0.8968\n",
            "Epoch 8/15\n",
            "1875/1875 [==============================] - 27s 14ms/step - loss: 0.2019 - accuracy: 0.9230 - val_loss: 0.2981 - val_accuracy: 0.8937\n",
            "Epoch 9/15\n",
            "1875/1875 [==============================] - 27s 14ms/step - loss: 0.1873 - accuracy: 0.9287 - val_loss: 0.3159 - val_accuracy: 0.8955\n",
            "Epoch 10/15\n",
            "1875/1875 [==============================] - 27s 14ms/step - loss: 0.1758 - accuracy: 0.9326 - val_loss: 0.3009 - val_accuracy: 0.8992\n",
            "Epoch 11/15\n",
            "1875/1875 [==============================] - 27s 14ms/step - loss: 0.1635 - accuracy: 0.9380 - val_loss: 0.3330 - val_accuracy: 0.8978\n",
            "Epoch 12/15\n",
            "1875/1875 [==============================] - 27s 15ms/step - loss: 0.1560 - accuracy: 0.9397 - val_loss: 0.3281 - val_accuracy: 0.8966\n",
            "Epoch 13/15\n",
            "1875/1875 [==============================] - 27s 14ms/step - loss: 0.1463 - accuracy: 0.9439 - val_loss: 0.3254 - val_accuracy: 0.9013\n",
            "Epoch 14/15\n",
            "1875/1875 [==============================] - 27s 14ms/step - loss: 0.1383 - accuracy: 0.9471 - val_loss: 0.3378 - val_accuracy: 0.8963\n",
            "Epoch 15/15\n",
            "1875/1875 [==============================] - 27s 15ms/step - loss: 0.1291 - accuracy: 0.9508 - val_loss: 0.3490 - val_accuracy: 0.8970\n"
          ],
          "name": "stdout"
        }
      ]
    },
    {
      "cell_type": "code",
      "metadata": {
        "id": "VjIlHIvzCM0X",
        "colab_type": "code",
        "colab": {
          "base_uri": "https://localhost:8080/",
          "height": 282
        },
        "outputId": "577327b1-443b-445a-e205-2292da163d7d"
      },
      "source": [
        "import matplotlib.pyplot as plt\n",
        "plt.plot(r.history['loss'], label='loss')\n",
        "plt.plot(r.history['val_loss'], label='val_loss')\n",
        "plt.legend()"
      ],
      "execution_count": 9,
      "outputs": [
        {
          "output_type": "execute_result",
          "data": {
            "text/plain": [
              "<matplotlib.legend.Legend at 0x7efca9ac41d0>"
            ]
          },
          "metadata": {
            "tags": []
          },
          "execution_count": 9
        },
        {
          "output_type": "display_data",
          "data": {
            "image/png": "[encoded data removed]",
            "text/plain": [
              "<Figure size 432x288 with 1 Axes>"
            ]
          },
          "metadata": {
            "tags": [],
            "needs_background": "light"
          }
        }
      ]
    },
    {
      "cell_type": "code",
      "metadata": {
        "id": "R2wTZQD1DyX0",
        "colab_type": "code",
        "colab": {
          "base_uri": "https://localhost:8080/",
          "height": 282
        },
        "outputId": "4a84457c-389e-4bc6-fbb3-433447d26a56"
      },
      "source": [
        "plt.plot(r.history['accuracy'], label='acc')\n",
        "plt.plot(r.history['val_accuracy'], label='val_acc')\n",
        "plt.legend()"
      ],
      "execution_count": 10,
      "outputs": [
        {
          "output_type": "execute_result",
          "data": {
            "text/plain": [
              "<matplotlib.legend.Legend at 0x7efca99fc198>"
            ]
          },
          "metadata": {
            "tags": []
          },
          "execution_count": 10
        },
        {
          "output_type": "display_data",
          "data": {
            "image/png": "[encoded data removed]",
            "text/plain": [
              "<Figure size 432x288 with 1 Axes>"
            ]
          },
          "metadata": {
            "tags": [],
            "needs_background": "light"
          }
        }
      ]
    },
    {
      "cell_type": "code",
      "metadata": {
        "id": "xzjdHxptD3Pa",
        "colab_type": "code",
        "colab": {}
      },
      "source": [
        ""
      ],
      "execution_count": null,
      "outputs": []
    }
  ]
}